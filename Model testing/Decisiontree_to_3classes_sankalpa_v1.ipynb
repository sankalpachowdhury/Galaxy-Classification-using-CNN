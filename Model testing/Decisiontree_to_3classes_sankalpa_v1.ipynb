{
  "nbformat": 4,
  "nbformat_minor": 0,
  "metadata": {
    "colab": {
      "name": "Decisiontree_to_3classes_sankalpa_v1",
      "provenance": [],
      "collapsed_sections": [],
      "include_colab_link": true
    },
    "kernelspec": {
      "name": "python3",
      "display_name": "Python 3"
    },
    "accelerator": "GPU"
  },
  "cells": [
    {
      "cell_type": "markdown",
      "metadata": {
        "id": "view-in-github",
        "colab_type": "text"
      },
      "source": [
        "<a href=\"https://colab.research.google.com/github/sankalpachowdhury/Galaxy-Classification-using-CNN/blob/master/Decisiontree_to_3classes_sankalpa_v1.ipynb\" target=\"_parent\"><img src=\"https://colab.research.google.com/assets/colab-badge.svg\" alt=\"Open In Colab\"/></a>"
      ]
    },
    {
      "cell_type": "code",
      "metadata": {
        "id": "t254vRoD7cyj",
        "colab_type": "code",
        "colab": {
          "base_uri": "https://localhost:8080/",
          "height": 34
        },
        "outputId": "f3213248-49ab-4e23-de7f-72b53fed1d96"
      },
      "source": [
        "import pandas as pd\n",
        "import numpy as np\n",
        "from sklearn.model_selection import train_test_split\n",
        "\n",
        "import tensorflow as tf\n",
        "import keras \n",
        "from keras.models import Sequential\n",
        "import matplotlib.pyplot as plt"
      ],
      "execution_count": 1,
      "outputs": [
        {
          "output_type": "stream",
          "text": [
            "Using TensorFlow backend.\n"
          ],
          "name": "stderr"
        }
      ]
    },
    {
      "cell_type": "code",
      "metadata": {
        "id": "K9BQa8C07zyj",
        "colab_type": "code",
        "colab": {}
      },
      "source": [
        "%matplotlib inline\n",
        "import os, random, shutil\n",
        "\n",
        "from keras_preprocessing import image\n"
      ],
      "execution_count": 2,
      "outputs": []
    },
    {
      "cell_type": "code",
      "metadata": {
        "id": "CJC996oP7r33",
        "colab_type": "code",
        "colab": {
          "base_uri": "https://localhost:8080/",
          "height": 121
        },
        "outputId": "b2d7a48d-5c89-412d-bbbf-cb7baf5b901a"
      },
      "source": [
        "from google.colab import drive\n",
        "drive.mount('/content/drive')"
      ],
      "execution_count": 3,
      "outputs": [
        {
          "output_type": "stream",
          "text": [
            "Go to this URL in a browser: https://accounts.google.com/o/oauth2/auth?client_id=947318989803-6bn6qk8qdgf4n4g3pfee6491hc0brc4i.apps.googleusercontent.com&redirect_uri=urn%3aietf%3awg%3aoauth%3a2.0%3aoob&response_type=code&scope=email%20https%3a%2f%2fwww.googleapis.com%2fauth%2fdocs.test%20https%3a%2f%2fwww.googleapis.com%2fauth%2fdrive%20https%3a%2f%2fwww.googleapis.com%2fauth%2fdrive.photos.readonly%20https%3a%2f%2fwww.googleapis.com%2fauth%2fpeopleapi.readonly\n",
            "\n",
            "Enter your authorization code:\n",
            "··········\n",
            "Mounted at /content/drive\n"
          ],
          "name": "stdout"
        }
      ]
    },
    {
      "cell_type": "code",
      "metadata": {
        "id": "Ro87h7kL7tNT",
        "colab_type": "code",
        "colab": {}
      },
      "source": [
        "#!unzip \"/content/drive/My Drive/Astronomical /Test.zip\""
      ],
      "execution_count": null,
      "outputs": []
    },
    {
      "cell_type": "code",
      "metadata": {
        "id": "RZbr7GaW8L1k",
        "colab_type": "code",
        "colab": {}
      },
      "source": [
        "!unzip \"/content/drive/My Drive/Astronomical /Train.zip\""
      ],
      "execution_count": null,
      "outputs": []
    },
    {
      "cell_type": "code",
      "metadata": {
        "id": "4PCnUgLA8WKk",
        "colab_type": "code",
        "colab": {
          "base_uri": "https://localhost:8080/",
          "height": 252
        },
        "outputId": "be19a0cf-24a9-493f-c506-1ef32cfebc70"
      },
      "source": [
        "df = pd.read_csv('/content/drive/My Drive/Astronomical /Train.csv')\n",
        "#df_t = pd.read_csv('/content/drive/My Drive/Astronomical /Test.csv')\n",
        "\n",
        "print(df.head)"
      ],
      "execution_count": 5,
      "outputs": [
        {
          "output_type": "stream",
          "text": [
            "<bound method NDFrame.head of        GalaxyID  Class1.1  Class1.2  ...  Class11.4  Class11.5  Class11.6\n",
            "0        100008  0.383147  0.616853  ...   0.000000   0.000000   0.325512\n",
            "1        100023  0.327001  0.663777  ...   0.000000   0.000000   0.000000\n",
            "2        100053  0.765717  0.177352  ...   0.000000   0.000000   0.000000\n",
            "3        100078  0.693377  0.238564  ...   0.000000   0.000000   0.000000\n",
            "4        100090  0.933839  0.000000  ...   0.000000   0.000000   0.000000\n",
            "...         ...       ...       ...  ...        ...        ...        ...\n",
            "9996     248461  0.083000  0.889000  ...   0.222252   0.305812   0.305812\n",
            "9997     248466  0.439049  0.527396  ...   0.000000   0.000000   0.298742\n",
            "9998     248470  0.256421  0.737000  ...   0.000000   0.000000   0.139880\n",
            "9999     248471  0.796456  0.203544  ...   0.000000   0.000000   0.000000\n",
            "10000    248516  0.940208  0.041105  ...   0.000000   0.000000   0.000000\n",
            "\n",
            "[10001 rows x 38 columns]>\n"
          ],
          "name": "stdout"
        }
      ]
    },
    {
      "cell_type": "code",
      "metadata": {
        "id": "7c_K62av8bKM",
        "colab_type": "code",
        "colab": {}
      },
      "source": [
        "cols = df.columns\n",
        "new = list(map(lambda s: s.replace('Class','Q'), cols))\n",
        "df.columns = new"
      ],
      "execution_count": 9,
      "outputs": []
    },
    {
      "cell_type": "code",
      "metadata": {
        "id": "qi7kqsdd-WjQ",
        "colab_type": "code",
        "colab": {
          "base_uri": "https://localhost:8080/",
          "height": 34
        },
        "outputId": "a2f2e94f-677f-4002-cd85-cb08f5a4a452"
      },
      "source": [
        "df.shape"
      ],
      "execution_count": 10,
      "outputs": [
        {
          "output_type": "execute_result",
          "data": {
            "text/plain": [
              "(10001, 38)"
            ]
          },
          "metadata": {
            "tags": []
          },
          "execution_count": 10
        }
      ]
    },
    {
      "cell_type": "code",
      "metadata": {
        "id": "-qRCpKpI-aZT",
        "colab_type": "code",
        "colab": {
          "base_uri": "https://localhost:8080/",
          "height": 215
        },
        "outputId": "1d7f9b96-2393-4bb7-95e7-2c47a22b5be1"
      },
      "source": [
        "df.head(5)"
      ],
      "execution_count": 11,
      "outputs": [
        {
          "output_type": "execute_result",
          "data": {
            "text/html": [
              "<div>\n",
              "<style scoped>\n",
              "    .dataframe tbody tr th:only-of-type {\n",
              "        vertical-align: middle;\n",
              "    }\n",
              "\n",
              "    .dataframe tbody tr th {\n",
              "        vertical-align: top;\n",
              "    }\n",
              "\n",
              "    .dataframe thead th {\n",
              "        text-align: right;\n",
              "    }\n",
              "</style>\n",
              "<table border=\"1\" class=\"dataframe\">\n",
              "  <thead>\n",
              "    <tr style=\"text-align: right;\">\n",
              "      <th></th>\n",
              "      <th>GalaxyID</th>\n",
              "      <th>Q1.1</th>\n",
              "      <th>Q1.2</th>\n",
              "      <th>Q1.3</th>\n",
              "      <th>Q2.1</th>\n",
              "      <th>Q2.2</th>\n",
              "      <th>Q3.1</th>\n",
              "      <th>Q3.2</th>\n",
              "      <th>Q4.1</th>\n",
              "      <th>Q4.2</th>\n",
              "      <th>Q5.1</th>\n",
              "      <th>Q5.2</th>\n",
              "      <th>Q5.3</th>\n",
              "      <th>Q5.4</th>\n",
              "      <th>Q6.1</th>\n",
              "      <th>Q6.2</th>\n",
              "      <th>Q7.1</th>\n",
              "      <th>Q7.2</th>\n",
              "      <th>Q7.3</th>\n",
              "      <th>Q8.1</th>\n",
              "      <th>Q8.2</th>\n",
              "      <th>Q8.3</th>\n",
              "      <th>Q8.4</th>\n",
              "      <th>Q8.5</th>\n",
              "      <th>Q8.6</th>\n",
              "      <th>Q8.7</th>\n",
              "      <th>Q9.1</th>\n",
              "      <th>Q9.2</th>\n",
              "      <th>Q9.3</th>\n",
              "      <th>Q10.1</th>\n",
              "      <th>Q10.2</th>\n",
              "      <th>Q10.3</th>\n",
              "      <th>Q11.1</th>\n",
              "      <th>Q11.2</th>\n",
              "      <th>Q11.3</th>\n",
              "      <th>Q11.4</th>\n",
              "      <th>Q11.5</th>\n",
              "      <th>Q11.6</th>\n",
              "    </tr>\n",
              "  </thead>\n",
              "  <tbody>\n",
              "    <tr>\n",
              "      <th>0</th>\n",
              "      <td>100008</td>\n",
              "      <td>0.383147</td>\n",
              "      <td>0.616853</td>\n",
              "      <td>0.000000</td>\n",
              "      <td>0.000000</td>\n",
              "      <td>0.616853</td>\n",
              "      <td>0.038452</td>\n",
              "      <td>0.578401</td>\n",
              "      <td>0.418398</td>\n",
              "      <td>0.198455</td>\n",
              "      <td>0.0</td>\n",
              "      <td>0.104752</td>\n",
              "      <td>0.512101</td>\n",
              "      <td>0.000000</td>\n",
              "      <td>0.054453</td>\n",
              "      <td>0.945547</td>\n",
              "      <td>0.201463</td>\n",
              "      <td>0.181684</td>\n",
              "      <td>0.000000</td>\n",
              "      <td>0.0</td>\n",
              "      <td>0.027226</td>\n",
              "      <td>0.000000</td>\n",
              "      <td>0.027226</td>\n",
              "      <td>0.000000</td>\n",
              "      <td>0.000000</td>\n",
              "      <td>0.0</td>\n",
              "      <td>0.000000</td>\n",
              "      <td>0.0</td>\n",
              "      <td>0.000000</td>\n",
              "      <td>0.279952</td>\n",
              "      <td>0.138445</td>\n",
              "      <td>0.000000</td>\n",
              "      <td>0.000000</td>\n",
              "      <td>0.092886</td>\n",
              "      <td>0.0</td>\n",
              "      <td>0.0</td>\n",
              "      <td>0.0</td>\n",
              "      <td>0.325512</td>\n",
              "    </tr>\n",
              "    <tr>\n",
              "      <th>1</th>\n",
              "      <td>100023</td>\n",
              "      <td>0.327001</td>\n",
              "      <td>0.663777</td>\n",
              "      <td>0.009222</td>\n",
              "      <td>0.031178</td>\n",
              "      <td>0.632599</td>\n",
              "      <td>0.467370</td>\n",
              "      <td>0.165229</td>\n",
              "      <td>0.591328</td>\n",
              "      <td>0.041271</td>\n",
              "      <td>0.0</td>\n",
              "      <td>0.236781</td>\n",
              "      <td>0.160941</td>\n",
              "      <td>0.234877</td>\n",
              "      <td>0.189149</td>\n",
              "      <td>0.810851</td>\n",
              "      <td>0.000000</td>\n",
              "      <td>0.135082</td>\n",
              "      <td>0.191919</td>\n",
              "      <td>0.0</td>\n",
              "      <td>0.000000</td>\n",
              "      <td>0.140353</td>\n",
              "      <td>0.000000</td>\n",
              "      <td>0.048796</td>\n",
              "      <td>0.000000</td>\n",
              "      <td>0.0</td>\n",
              "      <td>0.012414</td>\n",
              "      <td>0.0</td>\n",
              "      <td>0.018764</td>\n",
              "      <td>0.000000</td>\n",
              "      <td>0.131378</td>\n",
              "      <td>0.459950</td>\n",
              "      <td>0.000000</td>\n",
              "      <td>0.591328</td>\n",
              "      <td>0.0</td>\n",
              "      <td>0.0</td>\n",
              "      <td>0.0</td>\n",
              "      <td>0.000000</td>\n",
              "    </tr>\n",
              "    <tr>\n",
              "      <th>2</th>\n",
              "      <td>100053</td>\n",
              "      <td>0.765717</td>\n",
              "      <td>0.177352</td>\n",
              "      <td>0.056931</td>\n",
              "      <td>0.000000</td>\n",
              "      <td>0.177352</td>\n",
              "      <td>0.000000</td>\n",
              "      <td>0.177352</td>\n",
              "      <td>0.000000</td>\n",
              "      <td>0.177352</td>\n",
              "      <td>0.0</td>\n",
              "      <td>0.117790</td>\n",
              "      <td>0.059562</td>\n",
              "      <td>0.000000</td>\n",
              "      <td>0.000000</td>\n",
              "      <td>1.000000</td>\n",
              "      <td>0.000000</td>\n",
              "      <td>0.741864</td>\n",
              "      <td>0.023853</td>\n",
              "      <td>0.0</td>\n",
              "      <td>0.000000</td>\n",
              "      <td>0.000000</td>\n",
              "      <td>0.000000</td>\n",
              "      <td>0.000000</td>\n",
              "      <td>0.000000</td>\n",
              "      <td>0.0</td>\n",
              "      <td>0.000000</td>\n",
              "      <td>0.0</td>\n",
              "      <td>0.000000</td>\n",
              "      <td>0.000000</td>\n",
              "      <td>0.000000</td>\n",
              "      <td>0.000000</td>\n",
              "      <td>0.000000</td>\n",
              "      <td>0.000000</td>\n",
              "      <td>0.0</td>\n",
              "      <td>0.0</td>\n",
              "      <td>0.0</td>\n",
              "      <td>0.000000</td>\n",
              "    </tr>\n",
              "    <tr>\n",
              "      <th>3</th>\n",
              "      <td>100078</td>\n",
              "      <td>0.693377</td>\n",
              "      <td>0.238564</td>\n",
              "      <td>0.068059</td>\n",
              "      <td>0.000000</td>\n",
              "      <td>0.238564</td>\n",
              "      <td>0.109493</td>\n",
              "      <td>0.129071</td>\n",
              "      <td>0.189098</td>\n",
              "      <td>0.049466</td>\n",
              "      <td>0.0</td>\n",
              "      <td>0.000000</td>\n",
              "      <td>0.113284</td>\n",
              "      <td>0.125280</td>\n",
              "      <td>0.320398</td>\n",
              "      <td>0.679602</td>\n",
              "      <td>0.408599</td>\n",
              "      <td>0.284778</td>\n",
              "      <td>0.000000</td>\n",
              "      <td>0.0</td>\n",
              "      <td>0.000000</td>\n",
              "      <td>0.096119</td>\n",
              "      <td>0.096119</td>\n",
              "      <td>0.000000</td>\n",
              "      <td>0.128159</td>\n",
              "      <td>0.0</td>\n",
              "      <td>0.000000</td>\n",
              "      <td>0.0</td>\n",
              "      <td>0.000000</td>\n",
              "      <td>0.094549</td>\n",
              "      <td>0.000000</td>\n",
              "      <td>0.094549</td>\n",
              "      <td>0.189098</td>\n",
              "      <td>0.000000</td>\n",
              "      <td>0.0</td>\n",
              "      <td>0.0</td>\n",
              "      <td>0.0</td>\n",
              "      <td>0.000000</td>\n",
              "    </tr>\n",
              "    <tr>\n",
              "      <th>4</th>\n",
              "      <td>100090</td>\n",
              "      <td>0.933839</td>\n",
              "      <td>0.000000</td>\n",
              "      <td>0.066161</td>\n",
              "      <td>0.000000</td>\n",
              "      <td>0.000000</td>\n",
              "      <td>0.000000</td>\n",
              "      <td>0.000000</td>\n",
              "      <td>0.000000</td>\n",
              "      <td>0.000000</td>\n",
              "      <td>0.0</td>\n",
              "      <td>0.000000</td>\n",
              "      <td>0.000000</td>\n",
              "      <td>0.000000</td>\n",
              "      <td>0.029383</td>\n",
              "      <td>0.970617</td>\n",
              "      <td>0.494587</td>\n",
              "      <td>0.439252</td>\n",
              "      <td>0.000000</td>\n",
              "      <td>0.0</td>\n",
              "      <td>0.000000</td>\n",
              "      <td>0.000000</td>\n",
              "      <td>0.000000</td>\n",
              "      <td>0.000000</td>\n",
              "      <td>0.029383</td>\n",
              "      <td>0.0</td>\n",
              "      <td>0.000000</td>\n",
              "      <td>0.0</td>\n",
              "      <td>0.000000</td>\n",
              "      <td>0.000000</td>\n",
              "      <td>0.000000</td>\n",
              "      <td>0.000000</td>\n",
              "      <td>0.000000</td>\n",
              "      <td>0.000000</td>\n",
              "      <td>0.0</td>\n",
              "      <td>0.0</td>\n",
              "      <td>0.0</td>\n",
              "      <td>0.000000</td>\n",
              "    </tr>\n",
              "  </tbody>\n",
              "</table>\n",
              "</div>"
            ],
            "text/plain": [
              "   GalaxyID      Q1.1      Q1.2      Q1.3  ...  Q11.3  Q11.4  Q11.5     Q11.6\n",
              "0    100008  0.383147  0.616853  0.000000  ...    0.0    0.0    0.0  0.325512\n",
              "1    100023  0.327001  0.663777  0.009222  ...    0.0    0.0    0.0  0.000000\n",
              "2    100053  0.765717  0.177352  0.056931  ...    0.0    0.0    0.0  0.000000\n",
              "3    100078  0.693377  0.238564  0.068059  ...    0.0    0.0    0.0  0.000000\n",
              "4    100090  0.933839  0.000000  0.066161  ...    0.0    0.0    0.0  0.000000\n",
              "\n",
              "[5 rows x 38 columns]"
            ]
          },
          "metadata": {
            "tags": []
          },
          "execution_count": 11
        }
      ]
    },
    {
      "cell_type": "code",
      "metadata": {
        "id": "WkWHsUBu-iij",
        "colab_type": "code",
        "colab": {}
      },
      "source": [
        "ellipticals = df[(df['Q1.1']>0.8) & (df['Q7.1']>0.4)]['GalaxyID'].tolist()\n",
        "#ellipticals"
      ],
      "execution_count": 12,
      "outputs": []
    },
    {
      "cell_type": "code",
      "metadata": {
        "id": "Zd8lzfvk-jbk",
        "colab_type": "code",
        "colab": {}
      },
      "source": [
        "\n",
        "lenticulars = df[(df['Q1.1']>0.8) & (df['Q7.2']>0.4)]['GalaxyID'].tolist()\n",
        "#lenticulars"
      ],
      "execution_count": 13,
      "outputs": []
    },
    {
      "cell_type": "code",
      "metadata": {
        "id": "2LZGJZzq-r21",
        "colab_type": "code",
        "colab": {}
      },
      "source": [
        "spirals = df[(df['Q1.2']>0.8) & (df['Q2.1']>0.4)]['GalaxyID'].tolist()\n",
        "#spirals"
      ],
      "execution_count": 14,
      "outputs": []
    },
    {
      "cell_type": "code",
      "metadata": {
        "id": "v-MHLYFC-30N",
        "colab_type": "code",
        "colab": {
          "base_uri": "https://localhost:8080/",
          "height": 67
        },
        "outputId": "dd45bded-f59b-4f0d-82f6-f97ff2f56119"
      },
      "source": [
        "print('Total number of elliptical examples: ',  len(ellipticals))\n",
        "print('Total number of lenticular examples: ',  len(lenticulars))\n",
        "print('Total number of spiral examples: ',  len(spirals))"
      ],
      "execution_count": 15,
      "outputs": [
        {
          "output_type": "stream",
          "text": [
            "Total number of elliptical examples:  723\n",
            "Total number of lenticular examples:  600\n",
            "Total number of spiral examples:  478\n"
          ],
          "name": "stdout"
        }
      ]
    },
    {
      "cell_type": "code",
      "metadata": {
        "id": "Gtocen_ND1s9",
        "colab_type": "code",
        "colab": {}
      },
      "source": [
        "source_path = '/content/Train'\n",
        "dest_path = '/content/data'"
      ],
      "execution_count": 16,
      "outputs": []
    },
    {
      "cell_type": "code",
      "metadata": {
        "id": "AurD3A0cHZCj",
        "colab_type": "code",
        "colab": {}
      },
      "source": [
        "def _proc_images(src, dst, label, arr, percent):\n",
        "    train_dir = os.path.join(dst, 'train')\n",
        "    val_dir = os.path.join(dst, 'validation')\n",
        "    \n",
        "    train_dest = os.path.join(train_dir, label)\n",
        "    val_dest   = os.path.join(val_dir, label)\n",
        "    \n",
        "    if not os.path.exists(train_dest):\n",
        "        os.makedirs(train_dest)\n",
        "\n",
        "    if not os.path.exists(val_dest):\n",
        "        os.makedirs(val_dest)\n",
        "    \n",
        "    random.shuffle(arr)\n",
        "    \n",
        "    idx = int(len(arr)*percent)\n",
        "    for i in arr[0:idx]:\n",
        "        shutil.copyfile(os.path.join(src, str(i)+'.jpg'), os.path.join(train_dest, str(i)+'.jpg'))\n",
        "    for i in arr[idx:]:\n",
        "        shutil.copyfile(os.path.join(src, str(i)+'.jpg'), os.path.join(val_dest, str(i)+'.jpg'))\n",
        "    \n",
        "    print(label, 'done!')\n"
      ],
      "execution_count": 17,
      "outputs": []
    },
    {
      "cell_type": "code",
      "metadata": {
        "id": "kk-lOaJjHy_m",
        "colab_type": "code",
        "colab": {
          "base_uri": "https://localhost:8080/",
          "height": 67
        },
        "outputId": "5fb90faa-a80d-49d3-a498-f39a88fcf8e7"
      },
      "source": [
        "\n",
        "_proc_images(source_path, dest_path, 'elliptical', ellipticals, 0.9)\n",
        "_proc_images(source_path, dest_path, 'lenticular', lenticulars, 0.9)\n",
        "_proc_images(source_path, dest_path, 'spiral', spirals, 0.9)"
      ],
      "execution_count": 18,
      "outputs": [
        {
          "output_type": "stream",
          "text": [
            "elliptical done!\n",
            "lenticular done!\n",
            "spiral done!\n"
          ],
          "name": "stdout"
        }
      ]
    },
    {
      "cell_type": "markdown",
      "metadata": {
        "id": "nsDF2sEfIq7E",
        "colab_type": "text"
      },
      "source": [
        "Data Processing"
      ]
    },
    {
      "cell_type": "code",
      "metadata": {
        "id": "rUsadeQEIt1s",
        "colab_type": "code",
        "colab": {}
      },
      "source": [
        "import os\n",
        "import PIL\n",
        "import PIL.Image"
      ],
      "execution_count": 19,
      "outputs": []
    },
    {
      "cell_type": "code",
      "metadata": {
        "id": "1iNz4OXnISWF",
        "colab_type": "code",
        "colab": {}
      },
      "source": [
        "'''\n",
        "import matplotlib.pyplot as plt\n",
        "\n",
        "from tqdm import tqdm\n",
        "from skimage.transform import resize\n",
        "\n",
        "ORIG_SHAPE = (424,424)\n",
        "CROP_SIZE = (256,256)\n",
        "IMG_SHAPE = (64,64)\n",
        "\n",
        "def get_image(path, x1,y1, shape, crop_size):\n",
        "    x = plt.imread(path)\n",
        "    x = x[x1:x1+crop_size[0], y1:y1+crop_size[1]]\n",
        "    # x = resize(x, shape)\n",
        "    x = x/255.\n",
        "    return x\n",
        "\n",
        "def get_all_images(path,df,shape=IMG_SHAPE, crop_size=CROP_SIZE, orig_size = ORIG_SHAPE, r=600):\n",
        "    x1 = (ORIG_SHAPE[0]-CROP_SIZE[0])//2\n",
        "    y1 = (ORIG_SHAPE[1]-CROP_SIZE[1])//2\n",
        "   \n",
        "    sel = df.values\n",
        "    ids = sel[:r,0].astype(int).astype(str)\n",
        "    y_batch = sel[:r,1:]\n",
        "    x_batch = []\n",
        "    for i in tqdm(ids):\n",
        "      \n",
        "      x = get_image(path+i+'.jpg', x1,y1, shape=shape, crop_size=crop_size)\n",
        "      x_batch.append(x)\n",
        "    print(i)\n",
        "    x_batch = np.array(x_batch)\n",
        "    return x_batch, y_batch\n",
        "            \n",
        "x_train, y_train = get_all_images('/content/Train/',df)\n",
        "x_test, y_test = get_all_images('/content/Test/',df_t)\n",
        "print(x_train.shape)\n",
        "print(y_train.shape)\n",
        "print(type(y_train))\n",
        "print(x_test.shape)\n",
        "print(y_test.shape)\n",
        "print(type(y_test))\n",
        "'''"
      ],
      "execution_count": null,
      "outputs": []
    },
    {
      "cell_type": "code",
      "metadata": {
        "id": "GIWtRTXtJv9M",
        "colab_type": "code",
        "colab": {}
      },
      "source": [
        "train_dir = 'data/train'\n",
        "validation_dir = 'data/validation'\n",
        "# make a directory in colabs \"data\" and copy the path."
      ],
      "execution_count": 20,
      "outputs": []
    },
    {
      "cell_type": "code",
      "metadata": {
        "id": "_eD_EfeBJyVo",
        "colab_type": "code",
        "colab": {
          "base_uri": "https://localhost:8080/",
          "height": 50
        },
        "outputId": "a5020bd2-e9c9-4e06-a55a-87edbe0e96fc"
      },
      "source": [
        "\n",
        "total_train = 0\n",
        "for c in ['elliptical', 'lenticular', 'spiral']:\n",
        "  total_train += len(os.listdir(os.path.join(train_dir, c)))\n",
        "print('Total train:', total_train)\n",
        "\n",
        "total_validation = 0\n",
        "for c in ['elliptical', 'lenticular', 'spiral']:\n",
        "  total_validation += len(os.listdir(os.path.join(validation_dir, c)))\n",
        "print('Total validation:', total_validation)"
      ],
      "execution_count": 21,
      "outputs": [
        {
          "output_type": "stream",
          "text": [
            "Total train: 1620\n",
            "Total validation: 181\n"
          ],
          "name": "stdout"
        }
      ]
    },
    {
      "cell_type": "code",
      "metadata": {
        "id": "ltqDEaLKKPBg",
        "colab_type": "code",
        "colab": {}
      },
      "source": [
        "# parameters\n",
        "target = (256, 256)\n",
        "batch_size = 64"
      ],
      "execution_count": 22,
      "outputs": []
    },
    {
      "cell_type": "code",
      "metadata": {
        "id": "Qloo1BtqKJbY",
        "colab_type": "code",
        "colab": {
          "base_uri": "https://localhost:8080/",
          "height": 50
        },
        "outputId": "f898fd1f-747f-478b-e365-7e8d7334dd95"
      },
      "source": [
        "train_datagen = tf.keras.preprocessing.image.ImageDataGenerator(\n",
        "                    rescale=1.0/255,\n",
        "                    rotation_range=25,\n",
        "                    width_shift_range=.15,\n",
        "                    height_shift_range=.15,\n",
        "                    horizontal_flip=True,\n",
        "                    zoom_range=0.2)\n",
        "validation_datagen  = tf.keras.preprocessing.image.ImageDataGenerator(\n",
        "    rescale=1.0/255.)\n",
        "train_generator = train_datagen.flow_from_directory(train_dir,\n",
        "                                                    target_size=target,\n",
        "                                                    batch_size=batch_size,\n",
        "                                                    shuffle=True,\n",
        "                                                    class_mode='categorical')\n",
        "validation_generator = train_datagen.flow_from_directory(validation_dir,\n",
        "                                                         target_size=target,\n",
        "                                                         batch_size=batch_size,\n",
        "                                                         shuffle=False,\n",
        "                                                         class_mode='categorical')"
      ],
      "execution_count": 23,
      "outputs": [
        {
          "output_type": "stream",
          "text": [
            "Found 1620 images belonging to 3 classes.\n",
            "Found 181 images belonging to 3 classes.\n"
          ],
          "name": "stdout"
        }
      ]
    },
    {
      "cell_type": "code",
      "metadata": {
        "id": "hSlBtPOmMN5I",
        "colab_type": "code",
        "colab": {}
      },
      "source": [
        "r_coeff = 0.001"
      ],
      "execution_count": 24,
      "outputs": []
    },
    {
      "cell_type": "code",
      "metadata": {
        "id": "usuXy04WL3s8",
        "colab_type": "code",
        "colab": {
          "base_uri": "https://localhost:8080/",
          "height": 487
        },
        "outputId": "9bb98d07-4a78-4d89-e482-ac9536b45158"
      },
      "source": [
        "from keras import regularizers\n",
        "\n",
        "\n",
        "model = keras.models.Sequential([keras.layers.Conv2D(32,(3,3),activation='relu',input_shape=(256,256,3)),\n",
        "                                keras.layers.Conv2D(64,(3,3),activation='relu', kernel_regularizer = regularizers.l2(r_coeff)),\n",
        "                                keras.layers.MaxPooling2D((20,20),strides=(2,2)),\n",
        "                                keras.layers.Conv2D(128,(3,3),activation='relu',kernel_regularizer = regularizers.l2(r_coeff)),\n",
        "                                keras.layers.Conv2D(128,(3,3),activation='relu',kernel_regularizer = regularizers.l2(r_coeff)),\n",
        "                                keras.layers.MaxPooling2D((2,2)),# Deafault takes stride = (2,2)\n",
        "                                keras.layers.Flatten(),\n",
        "                                keras.layers.Dense(512,activation='relu',kernel_regularizer = regularizers.l2(r_coeff)),\n",
        "                                keras.layers.Dense(512,activation='relu',kernel_regularizer = regularizers.l2(r_coeff)),\n",
        "                                keras.layers.Dense(3,activation = 'softmax',kernel_regularizer = regularizers.l2(r_coeff))\n",
        "                                ])\n",
        "#model1.add()\n",
        "model.summary()"
      ],
      "execution_count": 25,
      "outputs": [
        {
          "output_type": "stream",
          "text": [
            "Model: \"sequential_1\"\n",
            "_________________________________________________________________\n",
            "Layer (type)                 Output Shape              Param #   \n",
            "=================================================================\n",
            "conv2d_1 (Conv2D)            (None, 254, 254, 32)      896       \n",
            "_________________________________________________________________\n",
            "conv2d_2 (Conv2D)            (None, 252, 252, 64)      18496     \n",
            "_________________________________________________________________\n",
            "max_pooling2d_1 (MaxPooling2 (None, 117, 117, 64)      0         \n",
            "_________________________________________________________________\n",
            "conv2d_3 (Conv2D)            (None, 115, 115, 128)     73856     \n",
            "_________________________________________________________________\n",
            "conv2d_4 (Conv2D)            (None, 113, 113, 128)     147584    \n",
            "_________________________________________________________________\n",
            "max_pooling2d_2 (MaxPooling2 (None, 56, 56, 128)       0         \n",
            "_________________________________________________________________\n",
            "flatten_1 (Flatten)          (None, 401408)            0         \n",
            "_________________________________________________________________\n",
            "dense_1 (Dense)              (None, 512)               205521408 \n",
            "_________________________________________________________________\n",
            "dense_2 (Dense)              (None, 512)               262656    \n",
            "_________________________________________________________________\n",
            "dense_3 (Dense)              (None, 3)                 1539      \n",
            "=================================================================\n",
            "Total params: 206,026,435\n",
            "Trainable params: 206,026,435\n",
            "Non-trainable params: 0\n",
            "_________________________________________________________________\n"
          ],
          "name": "stdout"
        }
      ]
    },
    {
      "cell_type": "code",
      "metadata": {
        "id": "rojiuduiMTOK",
        "colab_type": "code",
        "colab": {}
      },
      "source": [
        "from tensorflow.keras.optimizers import Adam \n",
        "\n",
        "model.compile(optimizer=Adam(learning_rate=0.001),\n",
        "              loss = 'categorical_crossentropy',\n",
        "              metrics = ['acc'])"
      ],
      "execution_count": 26,
      "outputs": []
    },
    {
      "cell_type": "code",
      "metadata": {
        "id": "Sws0F4VkM2Wq",
        "colab_type": "code",
        "colab": {}
      },
      "source": [
        "EPOCHS = 100\n",
        "\n"
      ],
      "execution_count": 28,
      "outputs": []
    },
    {
      "cell_type": "code",
      "metadata": {
        "id": "n4iX_jyEMhB0",
        "colab_type": "code",
        "colab": {
          "base_uri": "https://localhost:8080/",
          "height": 1000
        },
        "outputId": "e2f710e1-1e43-4bc3-872a-2072c72bbcc2"
      },
      "source": [
        "history = model.fit_generator(train_generator,\n",
        "                    epochs=EPOCHS,\n",
        "                    validation_data=validation_generator,\n",
        "                    verbose=1)"
      ],
      "execution_count": 30,
      "outputs": [
        {
          "output_type": "stream",
          "text": [
            "Epoch 1/100\n",
            "26/26 [==============================] - 48s 2s/step - loss: 1.4626 - acc: 0.3944 - val_loss: 1.4998 - val_acc: 0.3978\n",
            "Epoch 2/100\n",
            "26/26 [==============================] - 45s 2s/step - loss: 1.2999 - acc: 0.4716 - val_loss: 1.4347 - val_acc: 0.5193\n",
            "Epoch 3/100\n",
            "26/26 [==============================] - 46s 2s/step - loss: 1.2604 - acc: 0.4988 - val_loss: 1.3392 - val_acc: 0.5525\n",
            "Epoch 4/100\n",
            "26/26 [==============================] - 46s 2s/step - loss: 1.1664 - acc: 0.5457 - val_loss: 1.3359 - val_acc: 0.5801\n",
            "Epoch 5/100\n",
            "26/26 [==============================] - 45s 2s/step - loss: 1.0743 - acc: 0.5938 - val_loss: 1.1742 - val_acc: 0.5856\n",
            "Epoch 6/100\n",
            "26/26 [==============================] - 46s 2s/step - loss: 0.9961 - acc: 0.5778 - val_loss: 0.7744 - val_acc: 0.6133\n",
            "Epoch 7/100\n",
            "26/26 [==============================] - 46s 2s/step - loss: 0.9498 - acc: 0.5889 - val_loss: 0.6596 - val_acc: 0.5912\n",
            "Epoch 8/100\n",
            "26/26 [==============================] - 46s 2s/step - loss: 0.9074 - acc: 0.6148 - val_loss: 0.7645 - val_acc: 0.5967\n",
            "Epoch 9/100\n",
            "26/26 [==============================] - 46s 2s/step - loss: 0.8541 - acc: 0.6235 - val_loss: 0.6112 - val_acc: 0.6243\n",
            "Epoch 10/100\n",
            "26/26 [==============================] - 46s 2s/step - loss: 0.8638 - acc: 0.6327 - val_loss: 0.9458 - val_acc: 0.6077\n",
            "Epoch 11/100\n",
            "26/26 [==============================] - 46s 2s/step - loss: 0.8590 - acc: 0.6099 - val_loss: 0.9076 - val_acc: 0.6077\n",
            "Epoch 12/100\n",
            "26/26 [==============================] - 46s 2s/step - loss: 0.8814 - acc: 0.6111 - val_loss: 0.6046 - val_acc: 0.6133\n",
            "Epoch 13/100\n",
            "26/26 [==============================] - 45s 2s/step - loss: 0.8461 - acc: 0.6296 - val_loss: 0.5711 - val_acc: 0.6354\n",
            "Epoch 14/100\n",
            "26/26 [==============================] - 46s 2s/step - loss: 0.7993 - acc: 0.6426 - val_loss: 0.3590 - val_acc: 0.5801\n",
            "Epoch 15/100\n",
            "26/26 [==============================] - 45s 2s/step - loss: 0.8032 - acc: 0.6426 - val_loss: 0.6188 - val_acc: 0.6133\n",
            "Epoch 16/100\n",
            "26/26 [==============================] - 45s 2s/step - loss: 0.8054 - acc: 0.6309 - val_loss: 0.4907 - val_acc: 0.6077\n",
            "Epoch 17/100\n",
            "26/26 [==============================] - 45s 2s/step - loss: 0.8052 - acc: 0.6401 - val_loss: 0.5208 - val_acc: 0.6464\n",
            "Epoch 18/100\n",
            "26/26 [==============================] - 45s 2s/step - loss: 0.7883 - acc: 0.6309 - val_loss: 0.5825 - val_acc: 0.6740\n",
            "Epoch 19/100\n",
            "26/26 [==============================] - 45s 2s/step - loss: 0.7614 - acc: 0.6506 - val_loss: 0.7088 - val_acc: 0.6133\n",
            "Epoch 20/100\n",
            "26/26 [==============================] - 45s 2s/step - loss: 0.7841 - acc: 0.6204 - val_loss: 0.6110 - val_acc: 0.6188\n",
            "Epoch 21/100\n",
            "26/26 [==============================] - 45s 2s/step - loss: 0.7798 - acc: 0.6340 - val_loss: 0.9484 - val_acc: 0.5967\n",
            "Epoch 22/100\n",
            "26/26 [==============================] - 45s 2s/step - loss: 0.7775 - acc: 0.6352 - val_loss: 0.4261 - val_acc: 0.6464\n",
            "Epoch 23/100\n",
            "26/26 [==============================] - 45s 2s/step - loss: 0.7507 - acc: 0.6444 - val_loss: 0.6828 - val_acc: 0.6354\n",
            "Epoch 24/100\n",
            "26/26 [==============================] - 45s 2s/step - loss: 0.7391 - acc: 0.6519 - val_loss: 0.7675 - val_acc: 0.6133\n",
            "Epoch 25/100\n",
            "26/26 [==============================] - 45s 2s/step - loss: 0.7582 - acc: 0.6395 - val_loss: 0.4399 - val_acc: 0.6298\n",
            "Epoch 26/100\n",
            "26/26 [==============================] - 46s 2s/step - loss: 0.7453 - acc: 0.6321 - val_loss: 0.5794 - val_acc: 0.6630\n",
            "Epoch 27/100\n",
            "26/26 [==============================] - 45s 2s/step - loss: 0.7219 - acc: 0.6636 - val_loss: 0.5782 - val_acc: 0.6243\n",
            "Epoch 28/100\n",
            "26/26 [==============================] - 45s 2s/step - loss: 0.7321 - acc: 0.6414 - val_loss: 0.4395 - val_acc: 0.6243\n",
            "Epoch 29/100\n",
            "26/26 [==============================] - 45s 2s/step - loss: 0.7323 - acc: 0.6593 - val_loss: 0.4520 - val_acc: 0.6022\n",
            "Epoch 30/100\n",
            "26/26 [==============================] - 45s 2s/step - loss: 0.7478 - acc: 0.6525 - val_loss: 0.7735 - val_acc: 0.6133\n",
            "Epoch 31/100\n",
            "26/26 [==============================] - 45s 2s/step - loss: 0.7209 - acc: 0.6506 - val_loss: 0.4133 - val_acc: 0.6630\n",
            "Epoch 32/100\n",
            "26/26 [==============================] - 45s 2s/step - loss: 0.6975 - acc: 0.6531 - val_loss: 0.5466 - val_acc: 0.6077\n",
            "Epoch 33/100\n",
            "26/26 [==============================] - 46s 2s/step - loss: 0.7044 - acc: 0.6691 - val_loss: 0.5090 - val_acc: 0.6519\n",
            "Epoch 34/100\n",
            "26/26 [==============================] - 46s 2s/step - loss: 0.7073 - acc: 0.6660 - val_loss: 0.5253 - val_acc: 0.6575\n",
            "Epoch 35/100\n",
            "26/26 [==============================] - 45s 2s/step - loss: 0.7078 - acc: 0.6556 - val_loss: 0.8539 - val_acc: 0.6022\n",
            "Epoch 36/100\n",
            "26/26 [==============================] - 46s 2s/step - loss: 0.6989 - acc: 0.6358 - val_loss: 0.6785 - val_acc: 0.6077\n",
            "Epoch 37/100\n",
            "26/26 [==============================] - 46s 2s/step - loss: 0.6843 - acc: 0.6549 - val_loss: 0.6769 - val_acc: 0.6298\n",
            "Epoch 38/100\n",
            "26/26 [==============================] - 46s 2s/step - loss: 0.6945 - acc: 0.6642 - val_loss: 0.4009 - val_acc: 0.6575\n",
            "Epoch 39/100\n",
            "26/26 [==============================] - 46s 2s/step - loss: 0.6793 - acc: 0.6630 - val_loss: 0.6163 - val_acc: 0.6575\n",
            "Epoch 40/100\n",
            "26/26 [==============================] - 46s 2s/step - loss: 0.6771 - acc: 0.6537 - val_loss: 0.2920 - val_acc: 0.6354\n",
            "Epoch 41/100\n",
            "26/26 [==============================] - 45s 2s/step - loss: 0.6640 - acc: 0.6679 - val_loss: 0.4638 - val_acc: 0.5967\n",
            "Epoch 42/100\n",
            "26/26 [==============================] - 45s 2s/step - loss: 0.6942 - acc: 0.6580 - val_loss: 0.4742 - val_acc: 0.6133\n",
            "Epoch 43/100\n",
            "26/26 [==============================] - 45s 2s/step - loss: 0.6715 - acc: 0.6599 - val_loss: 0.3317 - val_acc: 0.6685\n",
            "Epoch 44/100\n",
            "26/26 [==============================] - 45s 2s/step - loss: 0.6753 - acc: 0.6623 - val_loss: 0.4423 - val_acc: 0.6354\n",
            "Epoch 45/100\n",
            "26/26 [==============================] - 45s 2s/step - loss: 0.6920 - acc: 0.6543 - val_loss: 0.2798 - val_acc: 0.6630\n",
            "Epoch 46/100\n",
            "26/26 [==============================] - 45s 2s/step - loss: 0.6673 - acc: 0.6778 - val_loss: 0.6092 - val_acc: 0.6409\n",
            "Epoch 47/100\n",
            "26/26 [==============================] - 45s 2s/step - loss: 0.6767 - acc: 0.6580 - val_loss: 0.5585 - val_acc: 0.6575\n",
            "Epoch 48/100\n",
            "26/26 [==============================] - 46s 2s/step - loss: 0.6847 - acc: 0.6630 - val_loss: 0.7006 - val_acc: 0.6519\n",
            "Epoch 49/100\n",
            "26/26 [==============================] - 45s 2s/step - loss: 0.7014 - acc: 0.6426 - val_loss: 0.5088 - val_acc: 0.6409\n",
            "Epoch 50/100\n",
            "26/26 [==============================] - 45s 2s/step - loss: 0.6750 - acc: 0.6728 - val_loss: 0.3418 - val_acc: 0.6740\n",
            "Epoch 51/100\n",
            "26/26 [==============================] - 45s 2s/step - loss: 0.6784 - acc: 0.6642 - val_loss: 0.4068 - val_acc: 0.6740\n",
            "Epoch 52/100\n",
            "26/26 [==============================] - 45s 2s/step - loss: 0.6800 - acc: 0.6488 - val_loss: 0.9295 - val_acc: 0.6077\n",
            "Epoch 53/100\n",
            "26/26 [==============================] - 46s 2s/step - loss: 0.6855 - acc: 0.6401 - val_loss: 0.4107 - val_acc: 0.6077\n",
            "Epoch 54/100\n",
            "26/26 [==============================] - 46s 2s/step - loss: 0.6615 - acc: 0.6599 - val_loss: 0.2410 - val_acc: 0.6243\n",
            "Epoch 55/100\n",
            "26/26 [==============================] - 45s 2s/step - loss: 0.6895 - acc: 0.6426 - val_loss: 0.4904 - val_acc: 0.6464\n",
            "Epoch 56/100\n",
            "26/26 [==============================] - 45s 2s/step - loss: 0.6521 - acc: 0.6617 - val_loss: 0.4232 - val_acc: 0.6851\n",
            "Epoch 57/100\n",
            "26/26 [==============================] - 45s 2s/step - loss: 0.6404 - acc: 0.6901 - val_loss: 0.2374 - val_acc: 0.5912\n",
            "Epoch 58/100\n",
            "26/26 [==============================] - 45s 2s/step - loss: 0.6503 - acc: 0.6673 - val_loss: 0.5231 - val_acc: 0.6298\n",
            "Epoch 59/100\n",
            "26/26 [==============================] - 45s 2s/step - loss: 0.6618 - acc: 0.6741 - val_loss: 0.5742 - val_acc: 0.6851\n",
            "Epoch 60/100\n",
            "26/26 [==============================] - 45s 2s/step - loss: 0.6976 - acc: 0.6444 - val_loss: 0.4366 - val_acc: 0.6630\n",
            "Epoch 61/100\n",
            "26/26 [==============================] - 45s 2s/step - loss: 0.6452 - acc: 0.6765 - val_loss: 0.4559 - val_acc: 0.6519\n",
            "Epoch 62/100\n",
            "26/26 [==============================] - 45s 2s/step - loss: 0.6341 - acc: 0.6883 - val_loss: 0.3863 - val_acc: 0.6354\n",
            "Epoch 63/100\n",
            "26/26 [==============================] - 45s 2s/step - loss: 0.6439 - acc: 0.6691 - val_loss: 0.5958 - val_acc: 0.6575\n",
            "Epoch 64/100\n",
            "26/26 [==============================] - 45s 2s/step - loss: 0.6410 - acc: 0.6753 - val_loss: 0.4176 - val_acc: 0.6077\n",
            "Epoch 65/100\n",
            "26/26 [==============================] - 46s 2s/step - loss: 0.6307 - acc: 0.6796 - val_loss: 0.6381 - val_acc: 0.6243\n",
            "Epoch 66/100\n",
            "26/26 [==============================] - 46s 2s/step - loss: 0.6376 - acc: 0.6728 - val_loss: 0.3626 - val_acc: 0.6519\n",
            "Epoch 67/100\n",
            "26/26 [==============================] - 46s 2s/step - loss: 0.6535 - acc: 0.6568 - val_loss: 0.2784 - val_acc: 0.6022\n",
            "Epoch 68/100\n",
            "26/26 [==============================] - 46s 2s/step - loss: 0.6519 - acc: 0.6623 - val_loss: 0.3665 - val_acc: 0.6630\n",
            "Epoch 69/100\n",
            "26/26 [==============================] - 46s 2s/step - loss: 0.6262 - acc: 0.6765 - val_loss: 0.4652 - val_acc: 0.6409\n",
            "Epoch 70/100\n",
            "26/26 [==============================] - 46s 2s/step - loss: 0.6299 - acc: 0.6648 - val_loss: 0.5538 - val_acc: 0.6354\n",
            "Epoch 71/100\n",
            "26/26 [==============================] - 46s 2s/step - loss: 0.6614 - acc: 0.6586 - val_loss: 0.4253 - val_acc: 0.6740\n",
            "Epoch 72/100\n",
            "26/26 [==============================] - 46s 2s/step - loss: 0.6473 - acc: 0.6630 - val_loss: 0.6865 - val_acc: 0.6298\n",
            "Epoch 73/100\n",
            "26/26 [==============================] - 46s 2s/step - loss: 0.6454 - acc: 0.6753 - val_loss: 0.4068 - val_acc: 0.6464\n",
            "Epoch 74/100\n",
            "26/26 [==============================] - 46s 2s/step - loss: 0.6354 - acc: 0.6562 - val_loss: 0.3966 - val_acc: 0.6740\n",
            "Epoch 75/100\n",
            "26/26 [==============================] - 46s 2s/step - loss: 0.6364 - acc: 0.6673 - val_loss: 0.3865 - val_acc: 0.6464\n",
            "Epoch 76/100\n",
            "26/26 [==============================] - 46s 2s/step - loss: 0.6377 - acc: 0.6710 - val_loss: 0.4165 - val_acc: 0.6796\n",
            "Epoch 77/100\n",
            "26/26 [==============================] - 46s 2s/step - loss: 0.6321 - acc: 0.6716 - val_loss: 0.4396 - val_acc: 0.7017\n",
            "Epoch 78/100\n",
            "26/26 [==============================] - 46s 2s/step - loss: 0.6376 - acc: 0.6778 - val_loss: 0.4797 - val_acc: 0.6685\n",
            "Epoch 79/100\n",
            "26/26 [==============================] - 46s 2s/step - loss: 0.6336 - acc: 0.6741 - val_loss: 0.5115 - val_acc: 0.6519\n",
            "Epoch 80/100\n",
            "26/26 [==============================] - 45s 2s/step - loss: 0.6421 - acc: 0.6840 - val_loss: 0.5668 - val_acc: 0.6354\n",
            "Epoch 81/100\n",
            "26/26 [==============================] - 46s 2s/step - loss: 0.6324 - acc: 0.6710 - val_loss: 0.5954 - val_acc: 0.6796\n",
            "Epoch 82/100\n",
            "26/26 [==============================] - 46s 2s/step - loss: 0.6702 - acc: 0.6525 - val_loss: 0.5358 - val_acc: 0.6575\n",
            "Epoch 83/100\n",
            "26/26 [==============================] - 46s 2s/step - loss: 0.6386 - acc: 0.6685 - val_loss: 0.3061 - val_acc: 0.6685\n",
            "Epoch 84/100\n",
            "26/26 [==============================] - 46s 2s/step - loss: 0.6568 - acc: 0.6667 - val_loss: 0.3414 - val_acc: 0.6796\n",
            "Epoch 85/100\n",
            "26/26 [==============================] - 46s 2s/step - loss: 0.6455 - acc: 0.6574 - val_loss: 0.3651 - val_acc: 0.6630\n",
            "Epoch 86/100\n",
            "26/26 [==============================] - 46s 2s/step - loss: 0.6485 - acc: 0.6704 - val_loss: 0.5139 - val_acc: 0.6630\n",
            "Epoch 87/100\n",
            "26/26 [==============================] - 46s 2s/step - loss: 0.6411 - acc: 0.6698 - val_loss: 0.3413 - val_acc: 0.6685\n",
            "Epoch 88/100\n",
            "26/26 [==============================] - 46s 2s/step - loss: 0.6372 - acc: 0.6753 - val_loss: 0.4243 - val_acc: 0.6519\n",
            "Epoch 89/100\n",
            "26/26 [==============================] - 47s 2s/step - loss: 0.6130 - acc: 0.6846 - val_loss: 0.2882 - val_acc: 0.6188\n",
            "Epoch 90/100\n",
            "26/26 [==============================] - 46s 2s/step - loss: 0.6152 - acc: 0.6815 - val_loss: 0.7441 - val_acc: 0.6354\n",
            "Epoch 91/100\n",
            "26/26 [==============================] - 46s 2s/step - loss: 0.6768 - acc: 0.6346 - val_loss: 0.3033 - val_acc: 0.6740\n",
            "Epoch 92/100\n",
            "26/26 [==============================] - 47s 2s/step - loss: 0.6346 - acc: 0.6735 - val_loss: 0.3850 - val_acc: 0.6740\n",
            "Epoch 93/100\n",
            "26/26 [==============================] - 46s 2s/step - loss: 0.6248 - acc: 0.6772 - val_loss: 0.5958 - val_acc: 0.6354\n",
            "Epoch 94/100\n",
            "26/26 [==============================] - 46s 2s/step - loss: 0.6278 - acc: 0.6815 - val_loss: 0.4355 - val_acc: 0.6796\n",
            "Epoch 95/100\n",
            "26/26 [==============================] - 46s 2s/step - loss: 0.6268 - acc: 0.6864 - val_loss: 0.9812 - val_acc: 0.6133\n",
            "Epoch 96/100\n",
            "26/26 [==============================] - 46s 2s/step - loss: 0.6379 - acc: 0.6636 - val_loss: 0.4336 - val_acc: 0.6354\n",
            "Epoch 97/100\n",
            "26/26 [==============================] - 46s 2s/step - loss: 0.6171 - acc: 0.6722 - val_loss: 0.3122 - val_acc: 0.6575\n",
            "Epoch 98/100\n",
            "26/26 [==============================] - 46s 2s/step - loss: 0.6216 - acc: 0.6877 - val_loss: 0.3754 - val_acc: 0.6188\n",
            "Epoch 99/100\n",
            "26/26 [==============================] - 46s 2s/step - loss: 0.6057 - acc: 0.6981 - val_loss: 0.4190 - val_acc: 0.6961\n",
            "Epoch 100/100\n",
            "26/26 [==============================] - 46s 2s/step - loss: 0.6087 - acc: 0.6907 - val_loss: 0.3423 - val_acc: 0.6077\n"
          ],
          "name": "stdout"
        }
      ]
    },
    {
      "cell_type": "code",
      "metadata": {
        "id": "uzYArx-mT7bl",
        "colab_type": "code",
        "colab": {
          "base_uri": "https://localhost:8080/",
          "height": 499
        },
        "outputId": "afb742d8-93cf-419f-f997-939399fdcea5"
      },
      "source": [
        "acc = history.history['acc']\n",
        "val_acc = history.history['val_acc']\n",
        "\n",
        "loss = history.history['loss']\n",
        "val_loss = history.history['val_loss']\n",
        "\n",
        "epochs_range = range(len(acc))  # range for the number of epochs\n",
        "\n",
        "plt.figure(figsize=(16, 8))\n",
        "plt.subplot(1, 2, 1)\n",
        "plt.plot(epochs_range, acc, label='Training Accuracy')\n",
        "plt.plot(epochs_range, val_acc, label='Validation Accuracy')\n",
        "plt.legend(loc='lower right')\n",
        "plt.title('Training and Validation Accuracy')\n",
        "\n",
        "plt.subplot(1, 2, 2)\n",
        "plt.plot(epochs_range, loss, label='Training Loss')\n",
        "plt.plot(epochs_range, val_loss, label='Validation Loss')\n",
        "plt.legend(loc='upper right')\n",
        "plt.title('Training and Validation Loss')\n",
        "plt.savefig('./plots-v2.png')\n",
        "plt.show()"
      ],
      "execution_count": 32,
      "outputs": [
        {
          "output_type": "display_data",
          "data": {
            "image/png": "[encoded data removed]",
            "text/plain": [
              "<Figure size 1152x576 with 2 Axes>"
            ]
          },
          "metadata": {
            "tags": [],
            "needs_background": "light"
          }
        }
      ]
    },
    {
      "cell_type": "code",
      "metadata": {
        "id": "j2eJO0-TMcds",
        "colab_type": "code",
        "colab": {}
      },
      "source": [
        "'''\n",
        "model.fit(x_train, y_train, batch_size = 64, epochs= EPOCHS, validation_data=(x_test, y_test))\n",
        "\n",
        "\n",
        "history = model.fit(train_generator,\n",
        "                    epochs=EPOCHS,\n",
        "                    validation_data=validation_generator,\n",
        "                    verbose=1)\n",
        "'''"
      ],
      "execution_count": null,
      "outputs": []
    },
    {
      "cell_type": "code",
      "metadata": {
        "id": "iK8pAY0NWPwH",
        "colab_type": "code",
        "colab": {
          "base_uri": "https://localhost:8080/",
          "height": 70
        },
        "outputId": "483f4d88-59d5-4c38-8d6b-edd261254edd"
      },
      "source": [
        "model.save('galaxy-convnet-v2.h5')"
      ],
      "execution_count": null,
      "outputs": [
        {
          "output_type": "stream",
          "text": [
            "/usr/local/lib/python3.6/dist-packages/keras/engine/saving.py:165: UserWarning: TensorFlow optimizers do not make it possible to access optimizer attributes or optimizer state after instantiation. As a result, we cannot save the optimizer as part of the model save file.You will have to compile your model again after loading it. Prefer using a Keras optimizer instead (see keras.io/optimizers).\n",
            "  'TensorFlow optimizers do not '\n"
          ],
          "name": "stderr"
        }
      ]
    }
  ]
}