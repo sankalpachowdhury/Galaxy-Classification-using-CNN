{
  "nbformat": 4,
  "nbformat_minor": 0,
  "metadata": {
    "colab": {
      "name": "generating_git_file_structure",
      "provenance": [],
      "authorship_tag": "ABX9TyPu4GjD8VQeRe4aO0znWpKC",
      "include_colab_link": true
    },
    "kernelspec": {
      "name": "python3",
      "display_name": "Python 3"
    }
  },
  "cells": [
    {
      "cell_type": "markdown",
      "metadata": {
        "id": "view-in-github",
        "colab_type": "text"
      },
      "source": [
        "<a href=\"https://colab.research.google.com/github/sankalpachowdhury/Galaxy-Classification-using-CNN/blob/master/File_Structure/generating_git_file_structure.ipynb\" target=\"_parent\"><img src=\"https://colab.research.google.com/assets/colab-badge.svg\" alt=\"Open In Colab\"/></a>"
      ]
    },
    {
      "cell_type": "code",
      "metadata": {
        "id": "zBCrsB6nPDSk",
        "colab_type": "code",
        "colab": {
          "base_uri": "https://localhost:8080/",
          "height": 145
        },
        "outputId": "17f2c640-efb4-4091-d7a7-6774b2a75899"
      },
      "source": [
        "# cloning the repo\n",
        "!git clone https://github.com/sankalpachowdhury/Galaxy-Classification-using-CNN.git"
      ],
      "execution_count": 1,
      "outputs": [
        {
          "output_type": "stream",
          "text": [
            "Cloning into 'Galaxy-Classification-using-CNN'...\n",
            "remote: Enumerating objects: 157, done.\u001b[K\n",
            "remote: Counting objects: 100% (157/157), done.\u001b[K\n",
            "remote: Compressing objects: 100% (157/157), done.\u001b[K\n",
            "remote: Total 472 (delta 98), reused 0 (delta 0), pack-reused 315\u001b[K\n",
            "Receiving objects: 100% (472/472), 58.58 MiB | 20.74 MiB/s, done.\n",
            "Resolving deltas: 100% (263/263), done.\n"
          ],
          "name": "stdout"
        }
      ]
    },
    {
      "cell_type": "code",
      "metadata": {
        "id": "2b0sOJOpR8EZ",
        "colab_type": "code",
        "colab": {
          "base_uri": "https://localhost:8080/",
          "height": 490
        },
        "outputId": "88459897-1413-4e50-afdc-64124a7f350b"
      },
      "source": [
        "!sudo apt-get install tree"
      ],
      "execution_count": 2,
      "outputs": [
        {
          "output_type": "stream",
          "text": [
            "Reading package lists... Done\n",
            "Building dependency tree       \n",
            "Reading state information... Done\n",
            "The following package was automatically installed and is no longer required:\n",
            "  libnvidia-common-440\n",
            "Use 'sudo apt autoremove' to remove it.\n",
            "The following NEW packages will be installed:\n",
            "  tree\n",
            "0 upgraded, 1 newly installed, 0 to remove and 39 not upgraded.\n",
            "Need to get 40.7 kB of archives.\n",
            "After this operation, 105 kB of additional disk space will be used.\n",
            "Get:1 http://archive.ubuntu.com/ubuntu bionic/universe amd64 tree amd64 1.7.0-5 [40.7 kB]\n",
            "Fetched 40.7 kB in 0s (1,020 kB/s)\n",
            "debconf: unable to initialize frontend: Dialog\n",
            "debconf: (No usable dialog-like program is installed, so the dialog based frontend cannot be used. at /usr/share/perl5/Debconf/FrontEnd/Dialog.pm line 76, <> line 1.)\n",
            "debconf: falling back to frontend: Readline\n",
            "debconf: unable to initialize frontend: Readline\n",
            "debconf: (This frontend requires a controlling tty.)\n",
            "debconf: falling back to frontend: Teletype\n",
            "dpkg-preconfigure: unable to re-open stdin: \n",
            "Selecting previously unselected package tree.\n",
            "(Reading database ... 144579 files and directories currently installed.)\n",
            "Preparing to unpack .../tree_1.7.0-5_amd64.deb ...\n",
            "Unpacking tree (1.7.0-5) ...\n",
            "Setting up tree (1.7.0-5) ...\n",
            "Processing triggers for man-db (2.8.3-2ubuntu0.1) ...\n"
          ],
          "name": "stdout"
        }
      ]
    },
    {
      "cell_type": "code",
      "metadata": {
        "id": "s-VFapKoSD_4",
        "colab_type": "code",
        "colab": {
          "base_uri": "https://localhost:8080/",
          "height": 999
        },
        "outputId": "65073c64-576e-49ba-f18c-c0710f114291"
      },
      "source": [
        "# Generating tree of the file system\n",
        "! tree /content/Galaxy-Classification-using-CNN"
      ],
      "execution_count": 3,
      "outputs": [
        {
          "output_type": "stream",
          "text": [
            "/content/Galaxy-Classification-using-CNN\n",
            "├── File_Structure\n",
            "│   └── generating_git_file_structure.ipynb\n",
            "├── Galaxy-Classification CNN models\n",
            "│   ├── Galaxy_classification_CNN_final_model_26_08_20.ipynb\n",
            "│   └── Galaxy_classification_CNN_model_comparisons_26_08_20.ipynb\n",
            "├── Images\n",
            "│   ├── Decisiontree2.PNG\n",
            "│   ├── Decisiontree.PNG\n",
            "│   ├── final_model.png\n",
            "│   ├── hubble_t.jpg\n",
            "│   └── README.md\n",
            "├── LICENSE\n",
            "├── Model testing\n",
            "│   ├── 24_08_20_Model2_Galaxy_classification_Early_St_&_MCh.ipynb\n",
            "│   ├── 25_08_20_Model2_Galaxy_classification_Early_St_&_MCh(2).ipynb\n",
            "│   ├── Copy_of_Copy_of_Model1_Galaxy_classification_sankalpa_v5.ipynb\n",
            "│   ├── Copy_of_Model1_Galaxy_classification_augmentation.ipynb\n",
            "│   ├── Copy_of_Model1_Galaxy_classification_sankalpa_v3.ipynb\n",
            "│   ├── Copy_of_Model1_Galaxy_classification_sankalpa_v5.ipynb\n",
            "│   ├── Copy_of_Model2_Galaxy_classification_Early_St_&_MCh.ipynb\n",
            "│   ├── Copy_of_Untitled35.ipynb\n",
            "│   ├── data_augmentation.ipynb\n",
            "│   ├── Decisiontree_to_3classes.ipynb\n",
            "│   ├── Decisiontree_to_3classes_sankalpa_v1.ipynb\n",
            "│   ├── Galaxy_clasification.ipynb\n",
            "│   ├── Galaxy_classification_sankalpa_v2.ipynb\n",
            "│   ├── Model1_Galaxy_classification_sankalpa_v2.ipynb\n",
            "│   ├── Model1_Galaxy_classification_sankalpa_v3-2.ipynb\n",
            "│   ├── Model1_Galaxy_classification_sankalpa_v3.ipynb\n",
            "│   ├── Model1_Galaxy_classification_sankalpa_v4.ipynb\n",
            "│   ├── Model1_Galaxy_classification_sankalpa_v5.ipynb\n",
            "│   ├── Model2_Galaxy_classification_Early_St_&_MCh.ipynb\n",
            "│   ├── Model2_of_Galaxy_classification_sankalpa_v2.ipynb\n",
            "│   ├── new\n",
            "│   └── SayanDa_version.ipynb\n",
            "├── Python files\n",
            "│   ├── All_in_one.py\n",
            "│   ├── CNN_model.py\n",
            "│   ├── data_augmentation.py\n",
            "│   ├── data_segmentation.py\n",
            "│   ├── data_storing.py\n",
            "│   ├── image_generator.py\n",
            "│   ├── images_visualization.py\n",
            "│   ├── intermediate_activation_vis.py\n",
            "│   ├── model_compilation_training.py\n",
            "│   ├── model_evaluation_visualization.py\n",
            "│   └── modules.py\n",
            "├── README.md\n",
            "└── Weights and bias\n",
            "    ├── best_model-27-08-2020-final.h5\n",
            "    └── best_model (2).h5\n",
            "\n",
            "6 directories, 45 files\n"
          ],
          "name": "stdout"
        }
      ]
    }
  ]
}