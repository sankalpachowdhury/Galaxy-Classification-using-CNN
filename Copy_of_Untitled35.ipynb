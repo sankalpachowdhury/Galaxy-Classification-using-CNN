{
  "nbformat": 4,
  "nbformat_minor": 0,
  "metadata": {
    "colab": {
      "name": "Copy of Untitled35.ipynb",
      "provenance": [],
      "collapsed_sections": [],
      "toc_visible": true,
      "include_colab_link": true
    },
    "kernelspec": {
      "name": "python3",
      "display_name": "Python 3"
    },
    "accelerator": "GPU"
  },
  "cells": [
    {
      "cell_type": "markdown",
      "metadata": {
        "id": "view-in-github",
        "colab_type": "text"
      },
      "source": [
        "<a href=\"https://colab.research.google.com/github/sankalpachowdhury/Galaxy-Classification-using-CNN/blob/master/Copy_of_Untitled35.ipynb\" target=\"_parent\"><img src=\"https://colab.research.google.com/assets/colab-badge.svg\" alt=\"Open In Colab\"/></a>"
      ]
    },
    {
      "cell_type": "markdown",
      "metadata": {
        "id": "54f2AF7uXOT7",
        "colab_type": "text"
      },
      "source": [
        "# **Galaxy Classification**"
      ]
    },
    {
      "cell_type": "code",
      "metadata": {
        "id": "ux1-ee5dMUb_",
        "colab_type": "code",
        "colab": {
          "base_uri": "https://localhost:8080/",
          "height": 33
        },
        "outputId": "dfc6773c-cfbf-4418-d8e9-bc35d24d840d"
      },
      "source": [
        "import pandas as pd\n",
        "import numpy as np\n",
        "from sklearn.model_selection import train_test_split\n",
        "\n",
        "import tensorflow as tf\n",
        "import keras \n",
        "from keras.models import Sequential\n",
        "import matplotlib.pyplot as plt\n",
        "\n"
      ],
      "execution_count": 1,
      "outputs": [
        {
          "output_type": "stream",
          "text": [
            "Using TensorFlow backend.\n"
          ],
          "name": "stderr"
        }
      ]
    },
    {
      "cell_type": "code",
      "metadata": {
        "id": "5e9gOneG3Kao",
        "colab_type": "code",
        "colab": {
          "base_uri": "https://localhost:8080/",
          "height": 1000
        },
        "outputId": "5c999502-3b1d-4d28-f02f-6d93037c8397"
      },
      "source": [
        "!unzip \"/content/Test.zip\""
      ],
      "execution_count": 18,
      "outputs": [
        {
          "output_type": "stream",
          "text": [
            "Archive:  /content/Test.zip\n",
            "  inflating: Test/107388.jpg         \n",
            "  inflating: Test/107394.jpg         \n",
            "  inflating: Test/107403.jpg         \n",
            "  inflating: Test/107406.jpg         \n",
            "  inflating: Test/107415.jpg         \n",
            "  inflating: Test/107422.jpg         \n",
            "  inflating: Test/107434.jpg         \n",
            "  inflating: Test/107435.jpg         \n",
            "  inflating: Test/107454.jpg         \n",
            "  inflating: Test/107461.jpg         \n",
            "  inflating: Test/107466.jpg         \n",
            "  inflating: Test/107480.jpg         \n",
            "  inflating: Test/107496.jpg         \n",
            "  inflating: Test/107510.jpg         \n",
            "  inflating: Test/107517.jpg         \n",
            "  inflating: Test/107521.jpg         \n",
            "  inflating: Test/107524.jpg         \n",
            "  inflating: Test/107527.jpg         \n",
            "  inflating: Test/107539.jpg         \n",
            "  inflating: Test/107553.jpg         \n",
            "  inflating: Test/107555.jpg         \n",
            "  inflating: Test/107559.jpg         \n",
            "  inflating: Test/107560.jpg         \n",
            "  inflating: Test/107562.jpg         \n",
            "  inflating: Test/107563.jpg         \n",
            "  inflating: Test/107573.jpg         \n",
            "  inflating: Test/107576.jpg         \n",
            "  inflating: Test/107583.jpg         \n",
            "  inflating: Test/107593.jpg         \n",
            "  inflating: Test/107597.jpg         \n",
            "  inflating: Test/107606.jpg         \n",
            "  inflating: Test/107608.jpg         \n",
            "  inflating: Test/107610.jpg         \n",
            "  inflating: Test/107613.jpg         \n",
            "  inflating: Test/107616.jpg         \n",
            "  inflating: Test/107619.jpg         \n",
            "  inflating: Test/107627.jpg         \n",
            "  inflating: Test/107629.jpg         \n",
            "  inflating: Test/107631.jpg         \n",
            "  inflating: Test/107660.jpg         \n",
            "  inflating: Test/107688.jpg         \n",
            "  inflating: Test/107692.jpg         \n",
            "  inflating: Test/107709.jpg         \n",
            "  inflating: Test/107720.jpg         \n",
            "  inflating: Test/107736.jpg         \n",
            "  inflating: Test/107745.jpg         \n",
            "  inflating: Test/107747.jpg         \n",
            "  inflating: Test/107794.jpg         \n",
            "  inflating: Test/107810.jpg         \n",
            "  inflating: Test/107823.jpg         \n",
            "  inflating: Test/107828.jpg         \n",
            "  inflating: Test/107831.jpg         \n",
            "  inflating: Test/107849.jpg         \n",
            "  inflating: Test/107859.jpg         \n",
            "  inflating: Test/107888.jpg         \n",
            "  inflating: Test/107943.jpg         \n",
            "  inflating: Test/107946.jpg         \n",
            "  inflating: Test/107951.jpg         \n",
            "  inflating: Test/107954.jpg         \n",
            "  inflating: Test/107961.jpg         \n",
            "  inflating: Test/107966.jpg         \n",
            "  inflating: Test/107967.jpg         \n",
            "  inflating: Test/107972.jpg         \n",
            "  inflating: Test/107975.jpg         \n",
            "  inflating: Test/107985.jpg         \n",
            "  inflating: Test/107987.jpg         \n",
            "  inflating: Test/108012.jpg         \n",
            "  inflating: Test/108017.jpg         \n",
            "  inflating: Test/108038.jpg         \n",
            "  inflating: Test/108041.jpg         \n",
            "  inflating: Test/108051.jpg         \n",
            "  inflating: Test/108066.jpg         \n",
            "  inflating: Test/108088.jpg         \n",
            "  inflating: Test/108103.jpg         \n",
            "  inflating: Test/108105.jpg         \n",
            "  inflating: Test/108111.jpg         \n",
            "  inflating: Test/108146.jpg         \n",
            "  inflating: Test/108160.jpg         \n",
            "  inflating: Test/108182.jpg         \n",
            "  inflating: Test/108195.jpg         \n",
            "  inflating: Test/108207.jpg         \n",
            "  inflating: Test/108225.jpg         \n",
            "  inflating: Test/108251.jpg         \n",
            "  inflating: Test/108272.jpg         \n",
            "  inflating: Test/108305.jpg         \n",
            "  inflating: Test/108326.jpg         \n",
            "  inflating: Test/108481.jpg         \n",
            "  inflating: Test/108497.jpg         \n",
            "  inflating: Test/108507.jpg         \n",
            "  inflating: Test/108545.jpg         \n",
            "  inflating: Test/108551.jpg         \n",
            "  inflating: Test/108574.jpg         \n",
            "  inflating: Test/108580.jpg         \n",
            "  inflating: Test/108584.jpg         \n",
            "  inflating: Test/108601.jpg         \n",
            "  inflating: Test/108608.jpg         \n",
            "  inflating: Test/108624.jpg         \n",
            "  inflating: Test/108642.jpg         \n",
            "  inflating: Test/108645.jpg         \n",
            "  inflating: Test/108649.jpg         \n"
          ],
          "name": "stdout"
        }
      ]
    },
    {
      "cell_type": "code",
      "metadata": {
        "id": "WgIBdWlhdQRt",
        "colab_type": "code",
        "colab": {
          "base_uri": "https://localhost:8080/",
          "height": 50
        },
        "outputId": "5e4ec306-efdc-4cc7-d4fa-e4b8f56303d0"
      },
      "source": [
        "!unzip \"/content/Train.zip\""
      ],
      "execution_count": 2,
      "outputs": [
        {
          "output_type": "stream",
          "text": [
            "Archive:  /content/Train.zip\n",
            "replace Train/100008.jpg? [y]es, [n]o, [A]ll, [N]one, [r]ename: "
          ],
          "name": "stdout"
        }
      ]
    },
    {
      "cell_type": "code",
      "metadata": {
        "id": "1otwcAhgYtpp",
        "colab_type": "code",
        "colab": {
          "base_uri": "https://localhost:8080/",
          "height": 245
        },
        "outputId": "f949ea82-3740-4bf9-d027-39b81097e4c2"
      },
      "source": [
        "df = pd.read_csv('/content/training_sol_copy.csv')\n",
        "df_t = pd.read_csv('/content/test.csv')\n",
        "\n",
        "print(df_t.head)"
      ],
      "execution_count": 2,
      "outputs": [
        {
          "output_type": "stream",
          "text": [
            "<bound method NDFrame.head of     GalaxyID  Class1.1  Class1.2  ...  Class11.4  Class11.5  Class11.6\n",
            "0     107388  0.798132  0.201868  ...        0.0        0.0   0.000000\n",
            "1     107394  0.824838  0.157510  ...        0.0        0.0   0.000000\n",
            "2     107403  0.747100  0.162761  ...        0.0        0.0   0.000000\n",
            "3     107406  0.479334  0.509474  ...        0.0        0.0   0.284426\n",
            "4     107415  0.474964  0.506394  ...        0.0        0.0   0.090641\n",
            "..       ...       ...       ...  ...        ...        ...        ...\n",
            "95    108608  0.002814  0.995439  ...        0.0        0.0   0.017078\n",
            "96    108624  0.832000  0.021000  ...        0.0        0.0   0.000000\n",
            "97    108642  0.376843  0.623157  ...        0.0        0.0   0.287054\n",
            "98    108645  0.938000  0.000000  ...        0.0        0.0   0.000000\n",
            "99    108649  0.330461  0.659274  ...        0.0        0.0   0.205491\n",
            "\n",
            "[100 rows x 38 columns]>\n"
          ],
          "name": "stdout"
        }
      ]
    },
    {
      "cell_type": "code",
      "metadata": {
        "id": "Gyqcak42fMOL",
        "colab_type": "code",
        "colab": {
          "base_uri": "https://localhost:8080/",
          "height": 147
        },
        "outputId": "0e124db2-36b1-46cc-e1b3-01a7e6e1f958"
      },
      "source": [
        "df.columns"
      ],
      "execution_count": 4,
      "outputs": [
        {
          "output_type": "execute_result",
          "data": {
            "text/plain": [
              "Index(['GalaxyID', 'Class1.1', 'Class1.2', 'Class1.3', 'Class2.1', 'Class2.2',\n",
              "       'Class3.1', 'Class3.2', 'Class4.1', 'Class4.2', 'Class5.1', 'Class5.2',\n",
              "       'Class5.3', 'Class5.4', 'Class6.1', 'Class6.2', 'Class7.1', 'Class7.2',\n",
              "       'Class7.3', 'Class8.1', 'Class8.2', 'Class8.3', 'Class8.4', 'Class8.5',\n",
              "       'Class8.6', 'Class8.7', 'Class9.1', 'Class9.2', 'Class9.3', 'Class10.1',\n",
              "       'Class10.2', 'Class10.3', 'Class11.1', 'Class11.2', 'Class11.3',\n",
              "       'Class11.4', 'Class11.5', 'Class11.6'],\n",
              "      dtype='object')"
            ]
          },
          "metadata": {
            "tags": []
          },
          "execution_count": 4
        }
      ]
    },
    {
      "cell_type": "code",
      "metadata": {
        "id": "BzNG6nJDfQ8a",
        "colab_type": "code",
        "colab": {
          "base_uri": "https://localhost:8080/",
          "height": 355
        },
        "outputId": "37329352-3e1d-461a-ddb7-8b51e5483c42"
      },
      "source": [
        "df.head(10)"
      ],
      "execution_count": 5,
      "outputs": [
        {
          "output_type": "execute_result",
          "data": {
            "text/html": [
              "<div>\n",
              "<style scoped>\n",
              "    .dataframe tbody tr th:only-of-type {\n",
              "        vertical-align: middle;\n",
              "    }\n",
              "\n",
              "    .dataframe tbody tr th {\n",
              "        vertical-align: top;\n",
              "    }\n",
              "\n",
              "    .dataframe thead th {\n",
              "        text-align: right;\n",
              "    }\n",
              "</style>\n",
              "<table border=\"1\" class=\"dataframe\">\n",
              "  <thead>\n",
              "    <tr style=\"text-align: right;\">\n",
              "      <th></th>\n",
              "      <th>GalaxyID</th>\n",
              "      <th>Class1.1</th>\n",
              "      <th>Class1.2</th>\n",
              "      <th>Class1.3</th>\n",
              "      <th>Class2.1</th>\n",
              "      <th>Class2.2</th>\n",
              "      <th>Class3.1</th>\n",
              "      <th>Class3.2</th>\n",
              "      <th>Class4.1</th>\n",
              "      <th>Class4.2</th>\n",
              "      <th>Class5.1</th>\n",
              "      <th>Class5.2</th>\n",
              "      <th>Class5.3</th>\n",
              "      <th>Class5.4</th>\n",
              "      <th>Class6.1</th>\n",
              "      <th>Class6.2</th>\n",
              "      <th>Class7.1</th>\n",
              "      <th>Class7.2</th>\n",
              "      <th>Class7.3</th>\n",
              "      <th>Class8.1</th>\n",
              "      <th>Class8.2</th>\n",
              "      <th>Class8.3</th>\n",
              "      <th>Class8.4</th>\n",
              "      <th>Class8.5</th>\n",
              "      <th>Class8.6</th>\n",
              "      <th>Class8.7</th>\n",
              "      <th>Class9.1</th>\n",
              "      <th>Class9.2</th>\n",
              "      <th>Class9.3</th>\n",
              "      <th>Class10.1</th>\n",
              "      <th>Class10.2</th>\n",
              "      <th>Class10.3</th>\n",
              "      <th>Class11.1</th>\n",
              "      <th>Class11.2</th>\n",
              "      <th>Class11.3</th>\n",
              "      <th>Class11.4</th>\n",
              "      <th>Class11.5</th>\n",
              "      <th>Class11.6</th>\n",
              "    </tr>\n",
              "  </thead>\n",
              "  <tbody>\n",
              "    <tr>\n",
              "      <th>0</th>\n",
              "      <td>100008</td>\n",
              "      <td>0.383147</td>\n",
              "      <td>0.616853</td>\n",
              "      <td>0.000000</td>\n",
              "      <td>0.000000</td>\n",
              "      <td>0.616853</td>\n",
              "      <td>0.038452</td>\n",
              "      <td>0.578401</td>\n",
              "      <td>0.418398</td>\n",
              "      <td>0.198455</td>\n",
              "      <td>0.000000</td>\n",
              "      <td>0.104752</td>\n",
              "      <td>0.512101</td>\n",
              "      <td>0.000000</td>\n",
              "      <td>0.054453</td>\n",
              "      <td>0.945547</td>\n",
              "      <td>0.201463</td>\n",
              "      <td>0.181684</td>\n",
              "      <td>0.000000</td>\n",
              "      <td>0.0</td>\n",
              "      <td>0.027226</td>\n",
              "      <td>0.000000</td>\n",
              "      <td>0.027226</td>\n",
              "      <td>0.000000</td>\n",
              "      <td>0.000000</td>\n",
              "      <td>0.000000</td>\n",
              "      <td>0.000000</td>\n",
              "      <td>0.0</td>\n",
              "      <td>0.000000</td>\n",
              "      <td>0.279952</td>\n",
              "      <td>0.138445</td>\n",
              "      <td>0.000000</td>\n",
              "      <td>0.000000</td>\n",
              "      <td>0.092886</td>\n",
              "      <td>0.000000</td>\n",
              "      <td>0.000000</td>\n",
              "      <td>0.000000</td>\n",
              "      <td>0.325512</td>\n",
              "    </tr>\n",
              "    <tr>\n",
              "      <th>1</th>\n",
              "      <td>100023</td>\n",
              "      <td>0.327001</td>\n",
              "      <td>0.663777</td>\n",
              "      <td>0.009222</td>\n",
              "      <td>0.031178</td>\n",
              "      <td>0.632599</td>\n",
              "      <td>0.467370</td>\n",
              "      <td>0.165229</td>\n",
              "      <td>0.591328</td>\n",
              "      <td>0.041271</td>\n",
              "      <td>0.000000</td>\n",
              "      <td>0.236781</td>\n",
              "      <td>0.160941</td>\n",
              "      <td>0.234877</td>\n",
              "      <td>0.189149</td>\n",
              "      <td>0.810851</td>\n",
              "      <td>0.000000</td>\n",
              "      <td>0.135082</td>\n",
              "      <td>0.191919</td>\n",
              "      <td>0.0</td>\n",
              "      <td>0.000000</td>\n",
              "      <td>0.140353</td>\n",
              "      <td>0.000000</td>\n",
              "      <td>0.048796</td>\n",
              "      <td>0.000000</td>\n",
              "      <td>0.000000</td>\n",
              "      <td>0.012414</td>\n",
              "      <td>0.0</td>\n",
              "      <td>0.018764</td>\n",
              "      <td>0.000000</td>\n",
              "      <td>0.131378</td>\n",
              "      <td>0.459950</td>\n",
              "      <td>0.000000</td>\n",
              "      <td>0.591328</td>\n",
              "      <td>0.000000</td>\n",
              "      <td>0.000000</td>\n",
              "      <td>0.000000</td>\n",
              "      <td>0.000000</td>\n",
              "    </tr>\n",
              "    <tr>\n",
              "      <th>2</th>\n",
              "      <td>100053</td>\n",
              "      <td>0.765717</td>\n",
              "      <td>0.177352</td>\n",
              "      <td>0.056931</td>\n",
              "      <td>0.000000</td>\n",
              "      <td>0.177352</td>\n",
              "      <td>0.000000</td>\n",
              "      <td>0.177352</td>\n",
              "      <td>0.000000</td>\n",
              "      <td>0.177352</td>\n",
              "      <td>0.000000</td>\n",
              "      <td>0.117790</td>\n",
              "      <td>0.059562</td>\n",
              "      <td>0.000000</td>\n",
              "      <td>0.000000</td>\n",
              "      <td>1.000000</td>\n",
              "      <td>0.000000</td>\n",
              "      <td>0.741864</td>\n",
              "      <td>0.023853</td>\n",
              "      <td>0.0</td>\n",
              "      <td>0.000000</td>\n",
              "      <td>0.000000</td>\n",
              "      <td>0.000000</td>\n",
              "      <td>0.000000</td>\n",
              "      <td>0.000000</td>\n",
              "      <td>0.000000</td>\n",
              "      <td>0.000000</td>\n",
              "      <td>0.0</td>\n",
              "      <td>0.000000</td>\n",
              "      <td>0.000000</td>\n",
              "      <td>0.000000</td>\n",
              "      <td>0.000000</td>\n",
              "      <td>0.000000</td>\n",
              "      <td>0.000000</td>\n",
              "      <td>0.000000</td>\n",
              "      <td>0.000000</td>\n",
              "      <td>0.000000</td>\n",
              "      <td>0.000000</td>\n",
              "    </tr>\n",
              "    <tr>\n",
              "      <th>3</th>\n",
              "      <td>100078</td>\n",
              "      <td>0.693377</td>\n",
              "      <td>0.238564</td>\n",
              "      <td>0.068059</td>\n",
              "      <td>0.000000</td>\n",
              "      <td>0.238564</td>\n",
              "      <td>0.109493</td>\n",
              "      <td>0.129071</td>\n",
              "      <td>0.189098</td>\n",
              "      <td>0.049466</td>\n",
              "      <td>0.000000</td>\n",
              "      <td>0.000000</td>\n",
              "      <td>0.113284</td>\n",
              "      <td>0.125280</td>\n",
              "      <td>0.320398</td>\n",
              "      <td>0.679602</td>\n",
              "      <td>0.408599</td>\n",
              "      <td>0.284778</td>\n",
              "      <td>0.000000</td>\n",
              "      <td>0.0</td>\n",
              "      <td>0.000000</td>\n",
              "      <td>0.096119</td>\n",
              "      <td>0.096119</td>\n",
              "      <td>0.000000</td>\n",
              "      <td>0.128159</td>\n",
              "      <td>0.000000</td>\n",
              "      <td>0.000000</td>\n",
              "      <td>0.0</td>\n",
              "      <td>0.000000</td>\n",
              "      <td>0.094549</td>\n",
              "      <td>0.000000</td>\n",
              "      <td>0.094549</td>\n",
              "      <td>0.189098</td>\n",
              "      <td>0.000000</td>\n",
              "      <td>0.000000</td>\n",
              "      <td>0.000000</td>\n",
              "      <td>0.000000</td>\n",
              "      <td>0.000000</td>\n",
              "    </tr>\n",
              "    <tr>\n",
              "      <th>4</th>\n",
              "      <td>100090</td>\n",
              "      <td>0.933839</td>\n",
              "      <td>0.000000</td>\n",
              "      <td>0.066161</td>\n",
              "      <td>0.000000</td>\n",
              "      <td>0.000000</td>\n",
              "      <td>0.000000</td>\n",
              "      <td>0.000000</td>\n",
              "      <td>0.000000</td>\n",
              "      <td>0.000000</td>\n",
              "      <td>0.000000</td>\n",
              "      <td>0.000000</td>\n",
              "      <td>0.000000</td>\n",
              "      <td>0.000000</td>\n",
              "      <td>0.029383</td>\n",
              "      <td>0.970617</td>\n",
              "      <td>0.494587</td>\n",
              "      <td>0.439252</td>\n",
              "      <td>0.000000</td>\n",
              "      <td>0.0</td>\n",
              "      <td>0.000000</td>\n",
              "      <td>0.000000</td>\n",
              "      <td>0.000000</td>\n",
              "      <td>0.000000</td>\n",
              "      <td>0.029383</td>\n",
              "      <td>0.000000</td>\n",
              "      <td>0.000000</td>\n",
              "      <td>0.0</td>\n",
              "      <td>0.000000</td>\n",
              "      <td>0.000000</td>\n",
              "      <td>0.000000</td>\n",
              "      <td>0.000000</td>\n",
              "      <td>0.000000</td>\n",
              "      <td>0.000000</td>\n",
              "      <td>0.000000</td>\n",
              "      <td>0.000000</td>\n",
              "      <td>0.000000</td>\n",
              "      <td>0.000000</td>\n",
              "    </tr>\n",
              "    <tr>\n",
              "      <th>5</th>\n",
              "      <td>100122</td>\n",
              "      <td>0.738832</td>\n",
              "      <td>0.238159</td>\n",
              "      <td>0.023009</td>\n",
              "      <td>0.000000</td>\n",
              "      <td>0.238159</td>\n",
              "      <td>0.000000</td>\n",
              "      <td>0.238159</td>\n",
              "      <td>0.000000</td>\n",
              "      <td>0.238159</td>\n",
              "      <td>0.000000</td>\n",
              "      <td>0.000000</td>\n",
              "      <td>0.238159</td>\n",
              "      <td>0.000000</td>\n",
              "      <td>0.197930</td>\n",
              "      <td>0.802070</td>\n",
              "      <td>0.066807</td>\n",
              "      <td>0.663691</td>\n",
              "      <td>0.008335</td>\n",
              "      <td>0.0</td>\n",
              "      <td>0.000000</td>\n",
              "      <td>0.049482</td>\n",
              "      <td>0.098965</td>\n",
              "      <td>0.049482</td>\n",
              "      <td>0.000000</td>\n",
              "      <td>0.000000</td>\n",
              "      <td>0.000000</td>\n",
              "      <td>0.0</td>\n",
              "      <td>0.000000</td>\n",
              "      <td>0.000000</td>\n",
              "      <td>0.000000</td>\n",
              "      <td>0.000000</td>\n",
              "      <td>0.000000</td>\n",
              "      <td>0.000000</td>\n",
              "      <td>0.000000</td>\n",
              "      <td>0.000000</td>\n",
              "      <td>0.000000</td>\n",
              "      <td>0.000000</td>\n",
              "    </tr>\n",
              "    <tr>\n",
              "      <th>6</th>\n",
              "      <td>100123</td>\n",
              "      <td>0.462492</td>\n",
              "      <td>0.456033</td>\n",
              "      <td>0.081475</td>\n",
              "      <td>0.000000</td>\n",
              "      <td>0.456033</td>\n",
              "      <td>0.000000</td>\n",
              "      <td>0.456033</td>\n",
              "      <td>0.000000</td>\n",
              "      <td>0.456033</td>\n",
              "      <td>0.000000</td>\n",
              "      <td>0.000000</td>\n",
              "      <td>0.456033</td>\n",
              "      <td>0.000000</td>\n",
              "      <td>0.687647</td>\n",
              "      <td>0.312353</td>\n",
              "      <td>0.388158</td>\n",
              "      <td>0.074334</td>\n",
              "      <td>0.000000</td>\n",
              "      <td>0.0</td>\n",
              "      <td>0.000000</td>\n",
              "      <td>0.000000</td>\n",
              "      <td>0.000000</td>\n",
              "      <td>0.213858</td>\n",
              "      <td>0.473789</td>\n",
              "      <td>0.000000</td>\n",
              "      <td>0.000000</td>\n",
              "      <td>0.0</td>\n",
              "      <td>0.000000</td>\n",
              "      <td>0.000000</td>\n",
              "      <td>0.000000</td>\n",
              "      <td>0.000000</td>\n",
              "      <td>0.000000</td>\n",
              "      <td>0.000000</td>\n",
              "      <td>0.000000</td>\n",
              "      <td>0.000000</td>\n",
              "      <td>0.000000</td>\n",
              "      <td>0.000000</td>\n",
              "    </tr>\n",
              "    <tr>\n",
              "      <th>7</th>\n",
              "      <td>100128</td>\n",
              "      <td>0.687783</td>\n",
              "      <td>0.288344</td>\n",
              "      <td>0.023873</td>\n",
              "      <td>0.000000</td>\n",
              "      <td>0.288344</td>\n",
              "      <td>0.069098</td>\n",
              "      <td>0.219246</td>\n",
              "      <td>0.000000</td>\n",
              "      <td>0.288344</td>\n",
              "      <td>0.067228</td>\n",
              "      <td>0.123625</td>\n",
              "      <td>0.027836</td>\n",
              "      <td>0.069656</td>\n",
              "      <td>0.473888</td>\n",
              "      <td>0.526112</td>\n",
              "      <td>0.482483</td>\n",
              "      <td>0.205300</td>\n",
              "      <td>0.000000</td>\n",
              "      <td>0.0</td>\n",
              "      <td>0.067766</td>\n",
              "      <td>0.033646</td>\n",
              "      <td>0.000000</td>\n",
              "      <td>0.304710</td>\n",
              "      <td>0.067766</td>\n",
              "      <td>0.000000</td>\n",
              "      <td>0.000000</td>\n",
              "      <td>0.0</td>\n",
              "      <td>0.000000</td>\n",
              "      <td>0.000000</td>\n",
              "      <td>0.000000</td>\n",
              "      <td>0.000000</td>\n",
              "      <td>0.000000</td>\n",
              "      <td>0.000000</td>\n",
              "      <td>0.000000</td>\n",
              "      <td>0.000000</td>\n",
              "      <td>0.000000</td>\n",
              "      <td>0.000000</td>\n",
              "    </tr>\n",
              "    <tr>\n",
              "      <th>8</th>\n",
              "      <td>100134</td>\n",
              "      <td>0.021834</td>\n",
              "      <td>0.976952</td>\n",
              "      <td>0.001214</td>\n",
              "      <td>0.021751</td>\n",
              "      <td>0.955201</td>\n",
              "      <td>0.313077</td>\n",
              "      <td>0.642124</td>\n",
              "      <td>0.546491</td>\n",
              "      <td>0.408711</td>\n",
              "      <td>0.160096</td>\n",
              "      <td>0.760688</td>\n",
              "      <td>0.034417</td>\n",
              "      <td>0.000000</td>\n",
              "      <td>0.611499</td>\n",
              "      <td>0.388501</td>\n",
              "      <td>0.010917</td>\n",
              "      <td>0.010917</td>\n",
              "      <td>0.000000</td>\n",
              "      <td>0.0</td>\n",
              "      <td>0.032377</td>\n",
              "      <td>0.064143</td>\n",
              "      <td>0.450225</td>\n",
              "      <td>0.000000</td>\n",
              "      <td>0.032377</td>\n",
              "      <td>0.032377</td>\n",
              "      <td>0.000000</td>\n",
              "      <td>0.0</td>\n",
              "      <td>0.021751</td>\n",
              "      <td>0.207253</td>\n",
              "      <td>0.152044</td>\n",
              "      <td>0.187194</td>\n",
              "      <td>0.000000</td>\n",
              "      <td>0.000000</td>\n",
              "      <td>0.054649</td>\n",
              "      <td>0.081974</td>\n",
              "      <td>0.081974</td>\n",
              "      <td>0.327894</td>\n",
              "    </tr>\n",
              "    <tr>\n",
              "      <th>9</th>\n",
              "      <td>100150</td>\n",
              "      <td>0.429378</td>\n",
              "      <td>0.524901</td>\n",
              "      <td>0.045721</td>\n",
              "      <td>0.000000</td>\n",
              "      <td>0.524901</td>\n",
              "      <td>0.000000</td>\n",
              "      <td>0.524901</td>\n",
              "      <td>0.000000</td>\n",
              "      <td>0.524901</td>\n",
              "      <td>0.000000</td>\n",
              "      <td>0.139390</td>\n",
              "      <td>0.226527</td>\n",
              "      <td>0.158984</td>\n",
              "      <td>0.037499</td>\n",
              "      <td>0.962501</td>\n",
              "      <td>0.091017</td>\n",
              "      <td>0.338361</td>\n",
              "      <td>0.000000</td>\n",
              "      <td>0.0</td>\n",
              "      <td>0.000000</td>\n",
              "      <td>0.037499</td>\n",
              "      <td>0.000000</td>\n",
              "      <td>0.000000</td>\n",
              "      <td>0.000000</td>\n",
              "      <td>0.000000</td>\n",
              "      <td>0.000000</td>\n",
              "      <td>0.0</td>\n",
              "      <td>0.000000</td>\n",
              "      <td>0.000000</td>\n",
              "      <td>0.000000</td>\n",
              "      <td>0.000000</td>\n",
              "      <td>0.000000</td>\n",
              "      <td>0.000000</td>\n",
              "      <td>0.000000</td>\n",
              "      <td>0.000000</td>\n",
              "      <td>0.000000</td>\n",
              "      <td>0.000000</td>\n",
              "    </tr>\n",
              "  </tbody>\n",
              "</table>\n",
              "</div>"
            ],
            "text/plain": [
              "   GalaxyID  Class1.1  Class1.2  ...  Class11.4  Class11.5  Class11.6\n",
              "0    100008  0.383147  0.616853  ...   0.000000   0.000000   0.325512\n",
              "1    100023  0.327001  0.663777  ...   0.000000   0.000000   0.000000\n",
              "2    100053  0.765717  0.177352  ...   0.000000   0.000000   0.000000\n",
              "3    100078  0.693377  0.238564  ...   0.000000   0.000000   0.000000\n",
              "4    100090  0.933839  0.000000  ...   0.000000   0.000000   0.000000\n",
              "5    100122  0.738832  0.238159  ...   0.000000   0.000000   0.000000\n",
              "6    100123  0.462492  0.456033  ...   0.000000   0.000000   0.000000\n",
              "7    100128  0.687783  0.288344  ...   0.000000   0.000000   0.000000\n",
              "8    100134  0.021834  0.976952  ...   0.081974   0.081974   0.327894\n",
              "9    100150  0.429378  0.524901  ...   0.000000   0.000000   0.000000\n",
              "\n",
              "[10 rows x 38 columns]"
            ]
          },
          "metadata": {
            "tags": []
          },
          "execution_count": 5
        }
      ]
    },
    {
      "cell_type": "code",
      "metadata": {
        "id": "ApM4hJ4LeWK9",
        "colab_type": "code",
        "colab": {
          "base_uri": "https://localhost:8080/",
          "height": 228
        },
        "outputId": "058809d4-acd8-430c-9faa-7f14c6fce6e3"
      },
      "source": [
        "train_label = np.array(df)\n",
        "print(train_label)"
      ],
      "execution_count": 5,
      "outputs": [
        {
          "output_type": "stream",
          "text": [
            "[[1.00008000e+05 3.83147000e-01 6.16853000e-01 ... 0.00000000e+00\n",
            "  0.00000000e+00 3.25512248e-01]\n",
            " [1.00023000e+05 3.27001000e-01 6.63777000e-01 ... 0.00000000e+00\n",
            "  0.00000000e+00 0.00000000e+00]\n",
            " [1.00053000e+05 7.65717000e-01 1.77352000e-01 ... 0.00000000e+00\n",
            "  0.00000000e+00 0.00000000e+00]\n",
            " ...\n",
            " [1.07374000e+05 1.91347000e-01 7.86178000e-01 ... 0.00000000e+00\n",
            "  0.00000000e+00 1.50748429e-01]\n",
            " [1.07379000e+05 2.82790000e-02 9.71721000e-01 ... 0.00000000e+00\n",
            "  0.00000000e+00 2.51835745e-01]\n",
            " [1.07383000e+05 6.05956000e-01 3.92745000e-01 ... 0.00000000e+00\n",
            "  0.00000000e+00 0.00000000e+00]]\n"
          ],
          "name": "stdout"
        }
      ]
    },
    {
      "cell_type": "markdown",
      "metadata": {
        "id": "ZVcAfW-zggrh",
        "colab_type": "text"
      },
      "source": [
        "# Data preprocessing "
      ]
    },
    {
      "cell_type": "code",
      "metadata": {
        "id": "DaAuoFNFjKyr",
        "colab_type": "code",
        "colab": {}
      },
      "source": [
        "import os\n",
        "import PIL\n",
        "import PIL.Image"
      ],
      "execution_count": 6,
      "outputs": []
    },
    {
      "cell_type": "code",
      "metadata": {
        "id": "LEBbud5Gnggo",
        "colab_type": "code",
        "colab": {
          "base_uri": "https://localhost:8080/",
          "height": 180
        },
        "outputId": "fe2abde1-4546-413f-a53f-5d245fe59c84"
      },
      "source": [
        "import matplotlib.pyplot as plt\n",
        "\n",
        "from tqdm import tqdm\n",
        "from skimage.transform import resize\n",
        "\n",
        "ORIG_SHAPE = (424,424)\n",
        "CROP_SIZE = (256,256)\n",
        "IMG_SHAPE = (64,64)\n",
        "\n",
        "def get_image(path, x1,y1, shape, crop_size):\n",
        "    x = plt.imread(path)\n",
        "    x = x[x1:x1+crop_size[0], y1:y1+crop_size[1]]\n",
        "    # x = resize(x, shape)\n",
        "    x = x/255.\n",
        "    return x\n",
        "\n",
        "def get_all_images(path,df,shape=IMG_SHAPE, crop_size=CROP_SIZE, orig_size = ORIG_SHAPE):\n",
        "    x1 = (ORIG_SHAPE[0]-CROP_SIZE[0])//2\n",
        "    y1 = (ORIG_SHAPE[1]-CROP_SIZE[1])//2\n",
        "   \n",
        "    sel = df.values\n",
        "    ids = sel[:,0].astype(int).astype(str)\n",
        "    y_batch = sel[:,1:]\n",
        "    x_batch = []\n",
        "    for i in tqdm(ids):\n",
        "      if(i!='108661'):\n",
        "       x = x = get_image(path+i+'.jpg', x1,y1, shape=shape, crop_size=crop_size)\n",
        "       x_batch.append(x)\n",
        "    print(i)\n",
        "    x_batch = np.array(x_batch)\n",
        "    return x_batch, y_batch\n",
        "            \n",
        "X_train, y_train = get_all_images('/content/Train/',df)\n",
        "x_test, y_test = get_all_images('/content/Test/',df_t)\n",
        "print(X_train.shape)\n",
        "print(y_train.shape)\n",
        "print(type(y_train))\n",
        "print(x_test.shape)\n",
        "print(y_test.shape)\n",
        "print(type(y_test))"
      ],
      "execution_count": 3,
      "outputs": [
        {
          "output_type": "stream",
          "text": [
            "100%|██████████| 500/500 [00:01<00:00, 284.01it/s]\n"
          ],
          "name": "stderr"
        },
        {
          "output_type": "stream",
          "text": [
            "107383\n"
          ],
          "name": "stdout"
        },
        {
          "output_type": "stream",
          "text": [
            "100%|██████████| 100/100 [00:00<00:00, 337.07it/s]\n"
          ],
          "name": "stderr"
        },
        {
          "output_type": "stream",
          "text": [
            "108649\n",
            "(500, 256, 256, 3)\n",
            "(500, 37)\n",
            "<class 'numpy.ndarray'>\n",
            "(100, 256, 256, 3)\n",
            "(100, 37)\n",
            "<class 'numpy.ndarray'>\n"
          ],
          "name": "stdout"
        }
      ]
    },
    {
      "cell_type": "code",
      "metadata": {
        "id": "ALmXaKvmRXK_",
        "colab_type": "code",
        "colab": {
          "base_uri": "https://localhost:8080/",
          "height": 472
        },
        "outputId": "dac7afcf-284b-43b9-c4b4-7dc0222a1567"
      },
      "source": [
        "model1 = keras.models.Sequential([keras.layers.Conv2D(32,(3,3),activation='relu',input_shape=(256,256,3)),\n",
        "                                keras.layers.Conv2D(64,(3,3),activation='relu'),\n",
        "                                keras.layers.MaxPooling2D((20,20),strides=(2,2)),\n",
        "                                keras.layers.Conv2D(128,(3,3),activation='relu'),\n",
        "                                keras.layers.Conv2D(128,(3,3),activation='relu'),\n",
        "                                keras.layers.MaxPooling2D((2,2)),# Deafault takes stride = (2,2)\n",
        "                                keras.layers.Flatten(),\n",
        "                                keras.layers.Dense(512,activation='relu'),\n",
        "                                keras.layers.Dense(512,activation='relu'),\n",
        "                                #keras.layers.Dense(37,activation = 'relu')\n",
        "                                ])\n",
        "model1.add()\n",
        "model1.summary()"
      ],
      "execution_count": 4,
      "outputs": [
        {
          "output_type": "stream",
          "text": [
            "Model: \"sequential_1\"\n",
            "_________________________________________________________________\n",
            "Layer (type)                 Output Shape              Param #   \n",
            "=================================================================\n",
            "conv2d_1 (Conv2D)            (None, 254, 254, 32)      896       \n",
            "_________________________________________________________________\n",
            "conv2d_2 (Conv2D)            (None, 252, 252, 64)      18496     \n",
            "_________________________________________________________________\n",
            "max_pooling2d_1 (MaxPooling2 (None, 117, 117, 64)      0         \n",
            "_________________________________________________________________\n",
            "conv2d_3 (Conv2D)            (None, 115, 115, 128)     73856     \n",
            "_________________________________________________________________\n",
            "conv2d_4 (Conv2D)            (None, 113, 113, 128)     147584    \n",
            "_________________________________________________________________\n",
            "max_pooling2d_2 (MaxPooling2 (None, 56, 56, 128)       0         \n",
            "_________________________________________________________________\n",
            "flatten_1 (Flatten)          (None, 401408)            0         \n",
            "_________________________________________________________________\n",
            "dense_1 (Dense)              (None, 512)               205521408 \n",
            "_________________________________________________________________\n",
            "dense_2 (Dense)              (None, 512)               262656    \n",
            "_________________________________________________________________\n",
            "dense_3 (Dense)              (None, 37)                18981     \n",
            "=================================================================\n",
            "Total params: 206,043,877\n",
            "Trainable params: 206,043,877\n",
            "Non-trainable params: 0\n",
            "_________________________________________________________________\n"
          ],
          "name": "stdout"
        }
      ]
    },
    {
      "cell_type": "code",
      "metadata": {
        "id": "ZVXYd9i8ZPu2",
        "colab_type": "code",
        "colab": {
          "base_uri": "https://localhost:8080/",
          "height": 440
        },
        "outputId": "95b42315-7291-4170-c5b7-7e281f118923"
      },
      "source": [
        "model2 = keras.models.Sequential([keras.layers.Conv2D(32,(3,3),activation='relu',input_shape=(256,256,3)),\n",
        "                                keras.layers.Conv2D(64,(3,3),activation='relu'),\n",
        "                                keras.layers.MaxPooling2D((20,20),strides=(2,2)),\n",
        "                                keras.layers.Conv2D(128,(3,3),activation='relu'),\n",
        "                                keras.layers.Conv2D(128,(3,3),activation='relu'),\n",
        "                                keras.layers.MaxPooling2D((2,2)),# Deafault takes stride = (2,2)\n",
        "                                keras.layers.Flatten(),\n",
        "                                keras.layers.Dense(512,activation='relu'),\n",
        "                                keras.layers.Dense(512,activation='relu'),\n",
        "                                #keras.layers.Dense(37,activation = 'softmax')\n",
        "                                ])\n",
        "model2.summary()"
      ],
      "execution_count": 15,
      "outputs": [
        {
          "output_type": "stream",
          "text": [
            "Model: \"sequential_2\"\n",
            "_________________________________________________________________\n",
            "Layer (type)                 Output Shape              Param #   \n",
            "=================================================================\n",
            "conv2d_5 (Conv2D)            (None, 254, 254, 32)      896       \n",
            "_________________________________________________________________\n",
            "conv2d_6 (Conv2D)            (None, 252, 252, 64)      18496     \n",
            "_________________________________________________________________\n",
            "max_pooling2d_3 (MaxPooling2 (None, 117, 117, 64)      0         \n",
            "_________________________________________________________________\n",
            "conv2d_7 (Conv2D)            (None, 115, 115, 128)     73856     \n",
            "_________________________________________________________________\n",
            "conv2d_8 (Conv2D)            (None, 113, 113, 128)     147584    \n",
            "_________________________________________________________________\n",
            "max_pooling2d_4 (MaxPooling2 (None, 56, 56, 128)       0         \n",
            "_________________________________________________________________\n",
            "flatten_2 (Flatten)          (None, 401408)            0         \n",
            "_________________________________________________________________\n",
            "dense_4 (Dense)              (None, 512)               205521408 \n",
            "_________________________________________________________________\n",
            "dense_5 (Dense)              (None, 512)               262656    \n",
            "=================================================================\n",
            "Total params: 206,024,896\n",
            "Trainable params: 206,024,896\n",
            "Non-trainable params: 0\n",
            "_________________________________________________________________\n"
          ],
          "name": "stdout"
        }
      ]
    },
    {
      "cell_type": "code",
      "metadata": {
        "id": "G8XXlKkBapJ9",
        "colab_type": "code",
        "colab": {
          "base_uri": "https://localhost:8080/",
          "height": 33
        },
        "outputId": "d5d53e06-6c82-42bd-c66f-81035f7909ec"
      },
      "source": [
        "print(model2.output.shape)"
      ],
      "execution_count": 60,
      "outputs": [
        {
          "output_type": "stream",
          "text": [
            "(None, 512)\n"
          ],
          "name": "stdout"
        }
      ]
    },
    {
      "cell_type": "code",
      "metadata": {
        "id": "E4HUQ9L7ZUKK",
        "colab_type": "code",
        "colab": {
          "base_uri": "https://localhost:8080/",
          "height": 361
        },
        "outputId": "f999d602-6e6e-47f0-914c-cef90b0233ce"
      },
      "source": [
        "from keras.layers import Input, Dense, Concatenate, Activation\n",
        "from keras.models import Model\n",
        "\n",
        "#input = Input(shape = (512,))\n",
        "input = model2.output\n",
        "x1 = Dense(2,input_shape=input)\n",
        "x2 = Dense(2,input_shape=input)\n",
        "l1 = Activation('softmax')(x1)\n",
        "l2 = Activation('softmax')(x2)\n",
        "#model2.add(l1)\n",
        "m6 =  Concatenate([l1, l2])\n",
        "model3 = Model(inputs = input, outputs =m6)\n",
        "#model2.add(Concatenate(axis=1)[l1,l2])\n",
        "model3.summary()"
      ],
      "execution_count": 82,
      "outputs": [
        {
          "output_type": "error",
          "ename": "TypeError",
          "evalue": "ignored",
          "traceback": [
            "\u001b[0;31m---------------------------------------------------------------------------\u001b[0m",
            "\u001b[0;31mTypeError\u001b[0m                                 Traceback (most recent call last)",
            "\u001b[0;32m<ipython-input-82-207569b4e2b6>\u001b[0m in \u001b[0;36m<module>\u001b[0;34m()\u001b[0m\n\u001b[1;32m      4\u001b[0m \u001b[0;31m#input = Input(shape = (512,))\u001b[0m\u001b[0;34m\u001b[0m\u001b[0;34m\u001b[0m\u001b[0;34m\u001b[0m\u001b[0m\n\u001b[1;32m      5\u001b[0m \u001b[0minput\u001b[0m \u001b[0;34m=\u001b[0m \u001b[0mmodel2\u001b[0m\u001b[0;34m.\u001b[0m\u001b[0moutput\u001b[0m\u001b[0;34m\u001b[0m\u001b[0;34m\u001b[0m\u001b[0m\n\u001b[0;32m----> 6\u001b[0;31m \u001b[0mx1\u001b[0m \u001b[0;34m=\u001b[0m \u001b[0mDense\u001b[0m\u001b[0;34m(\u001b[0m\u001b[0;36m2\u001b[0m\u001b[0;34m,\u001b[0m\u001b[0minput_shape\u001b[0m\u001b[0;34m=\u001b[0m\u001b[0minput\u001b[0m\u001b[0;34m)\u001b[0m\u001b[0;34m\u001b[0m\u001b[0;34m\u001b[0m\u001b[0m\n\u001b[0m\u001b[1;32m      7\u001b[0m \u001b[0mx2\u001b[0m \u001b[0;34m=\u001b[0m \u001b[0mDense\u001b[0m\u001b[0;34m(\u001b[0m\u001b[0;36m2\u001b[0m\u001b[0;34m,\u001b[0m\u001b[0minput_shape\u001b[0m\u001b[0;34m=\u001b[0m\u001b[0minput\u001b[0m\u001b[0;34m)\u001b[0m\u001b[0;34m\u001b[0m\u001b[0;34m\u001b[0m\u001b[0m\n\u001b[1;32m      8\u001b[0m \u001b[0ml1\u001b[0m \u001b[0;34m=\u001b[0m \u001b[0mActivation\u001b[0m\u001b[0;34m(\u001b[0m\u001b[0;34m'softmax'\u001b[0m\u001b[0;34m)\u001b[0m\u001b[0;34m(\u001b[0m\u001b[0mx1\u001b[0m\u001b[0;34m)\u001b[0m\u001b[0;34m\u001b[0m\u001b[0;34m\u001b[0m\u001b[0m\n",
            "\u001b[0;32m/usr/local/lib/python3.6/dist-packages/keras/legacy/interfaces.py\u001b[0m in \u001b[0;36mwrapper\u001b[0;34m(*args, **kwargs)\u001b[0m\n\u001b[1;32m     89\u001b[0m                 warnings.warn('Update your `' + object_name + '` call to the ' +\n\u001b[1;32m     90\u001b[0m                               'Keras 2 API: ' + signature, stacklevel=2)\n\u001b[0;32m---> 91\u001b[0;31m             \u001b[0;32mreturn\u001b[0m \u001b[0mfunc\u001b[0m\u001b[0;34m(\u001b[0m\u001b[0;34m*\u001b[0m\u001b[0margs\u001b[0m\u001b[0;34m,\u001b[0m \u001b[0;34m**\u001b[0m\u001b[0mkwargs\u001b[0m\u001b[0;34m)\u001b[0m\u001b[0;34m\u001b[0m\u001b[0;34m\u001b[0m\u001b[0m\n\u001b[0m\u001b[1;32m     92\u001b[0m         \u001b[0mwrapper\u001b[0m\u001b[0;34m.\u001b[0m\u001b[0m_original_function\u001b[0m \u001b[0;34m=\u001b[0m \u001b[0mfunc\u001b[0m\u001b[0;34m\u001b[0m\u001b[0;34m\u001b[0m\u001b[0m\n\u001b[1;32m     93\u001b[0m         \u001b[0;32mreturn\u001b[0m \u001b[0mwrapper\u001b[0m\u001b[0;34m\u001b[0m\u001b[0;34m\u001b[0m\u001b[0m\n",
            "\u001b[0;32m/usr/local/lib/python3.6/dist-packages/keras/layers/core.py\u001b[0m in \u001b[0;36m__init__\u001b[0;34m(self, units, activation, use_bias, kernel_initializer, bias_initializer, kernel_regularizer, bias_regularizer, activity_regularizer, kernel_constraint, bias_constraint, **kwargs)\u001b[0m\n\u001b[1;32m    871\u001b[0m         \u001b[0;32mif\u001b[0m \u001b[0;34m'input_shape'\u001b[0m \u001b[0;32mnot\u001b[0m \u001b[0;32min\u001b[0m \u001b[0mkwargs\u001b[0m \u001b[0;32mand\u001b[0m \u001b[0;34m'input_dim'\u001b[0m \u001b[0;32min\u001b[0m \u001b[0mkwargs\u001b[0m\u001b[0;34m:\u001b[0m\u001b[0;34m\u001b[0m\u001b[0;34m\u001b[0m\u001b[0m\n\u001b[1;32m    872\u001b[0m             \u001b[0mkwargs\u001b[0m\u001b[0;34m[\u001b[0m\u001b[0;34m'input_shape'\u001b[0m\u001b[0;34m]\u001b[0m \u001b[0;34m=\u001b[0m \u001b[0;34m(\u001b[0m\u001b[0mkwargs\u001b[0m\u001b[0;34m.\u001b[0m\u001b[0mpop\u001b[0m\u001b[0;34m(\u001b[0m\u001b[0;34m'input_dim'\u001b[0m\u001b[0;34m)\u001b[0m\u001b[0;34m,\u001b[0m\u001b[0;34m)\u001b[0m\u001b[0;34m\u001b[0m\u001b[0;34m\u001b[0m\u001b[0m\n\u001b[0;32m--> 873\u001b[0;31m         \u001b[0msuper\u001b[0m\u001b[0;34m(\u001b[0m\u001b[0mDense\u001b[0m\u001b[0;34m,\u001b[0m \u001b[0mself\u001b[0m\u001b[0;34m)\u001b[0m\u001b[0;34m.\u001b[0m\u001b[0m__init__\u001b[0m\u001b[0;34m(\u001b[0m\u001b[0;34m**\u001b[0m\u001b[0mkwargs\u001b[0m\u001b[0;34m)\u001b[0m\u001b[0;34m\u001b[0m\u001b[0;34m\u001b[0m\u001b[0m\n\u001b[0m\u001b[1;32m    874\u001b[0m         \u001b[0mself\u001b[0m\u001b[0;34m.\u001b[0m\u001b[0munits\u001b[0m \u001b[0;34m=\u001b[0m \u001b[0munits\u001b[0m\u001b[0;34m\u001b[0m\u001b[0;34m\u001b[0m\u001b[0m\n\u001b[1;32m    875\u001b[0m         \u001b[0mself\u001b[0m\u001b[0;34m.\u001b[0m\u001b[0mactivation\u001b[0m \u001b[0;34m=\u001b[0m \u001b[0mactivations\u001b[0m\u001b[0;34m.\u001b[0m\u001b[0mget\u001b[0m\u001b[0;34m(\u001b[0m\u001b[0mactivation\u001b[0m\u001b[0;34m)\u001b[0m\u001b[0;34m\u001b[0m\u001b[0;34m\u001b[0m\u001b[0m\n",
            "\u001b[0;32m/usr/local/lib/python3.6/dist-packages/keras/engine/base_layer.py\u001b[0m in \u001b[0;36m__init__\u001b[0;34m(self, **kwargs)\u001b[0m\n\u001b[1;32m    161\u001b[0m                 \u001b[0mbatch_size\u001b[0m \u001b[0;34m=\u001b[0m \u001b[0mkwargs\u001b[0m\u001b[0;34m.\u001b[0m\u001b[0mget\u001b[0m\u001b[0;34m(\u001b[0m\u001b[0;34m'batch_size'\u001b[0m\u001b[0;34m)\u001b[0m\u001b[0;34m\u001b[0m\u001b[0;34m\u001b[0m\u001b[0m\n\u001b[1;32m    162\u001b[0m                 batch_input_shape = (\n\u001b[0;32m--> 163\u001b[0;31m                     batch_size,) + tuple(kwargs['input_shape'])\n\u001b[0m\u001b[1;32m    164\u001b[0m             \u001b[0mself\u001b[0m\u001b[0;34m.\u001b[0m\u001b[0mbatch_input_shape\u001b[0m \u001b[0;34m=\u001b[0m \u001b[0mbatch_input_shape\u001b[0m\u001b[0;34m\u001b[0m\u001b[0;34m\u001b[0m\u001b[0m\n\u001b[1;32m    165\u001b[0m \u001b[0;34m\u001b[0m\u001b[0m\n",
            "\u001b[0;32m/usr/local/lib/python3.6/dist-packages/tensorflow/python/framework/ops.py\u001b[0m in \u001b[0;36m__iter__\u001b[0;34m(self)\u001b[0m\n\u001b[1;32m    568\u001b[0m     \u001b[0;32mif\u001b[0m \u001b[0mshape\u001b[0m\u001b[0;34m[\u001b[0m\u001b[0;36m0\u001b[0m\u001b[0;34m]\u001b[0m \u001b[0;32mis\u001b[0m \u001b[0;32mNone\u001b[0m\u001b[0;34m:\u001b[0m\u001b[0;34m\u001b[0m\u001b[0;34m\u001b[0m\u001b[0m\n\u001b[1;32m    569\u001b[0m       raise TypeError(\n\u001b[0;32m--> 570\u001b[0;31m           \"Cannot iterate over a tensor with unknown first dimension.\")\n\u001b[0m\u001b[1;32m    571\u001b[0m     \u001b[0;32mreturn\u001b[0m \u001b[0m_TensorIterator\u001b[0m\u001b[0;34m(\u001b[0m\u001b[0mself\u001b[0m\u001b[0;34m,\u001b[0m \u001b[0mshape\u001b[0m\u001b[0;34m[\u001b[0m\u001b[0;36m0\u001b[0m\u001b[0;34m]\u001b[0m\u001b[0;34m)\u001b[0m\u001b[0;34m\u001b[0m\u001b[0;34m\u001b[0m\u001b[0m\n\u001b[1;32m    572\u001b[0m \u001b[0;34m\u001b[0m\u001b[0m\n",
            "\u001b[0;31mTypeError\u001b[0m: Cannot iterate over a tensor with unknown first dimension."
          ]
        }
      ]
    },
    {
      "cell_type": "code",
      "metadata": {
        "id": "GvlDC7R6mK0Z",
        "colab_type": "code",
        "colab": {
          "base_uri": "https://localhost:8080/",
          "height": 272
        },
        "outputId": "c0f87d6f-b7d3-4b5e-e3c0-3d79a2ee1669"
      },
      "source": [
        "print(Dense(Concatenate([l1,l2])).output_shape)"
      ],
      "execution_count": 76,
      "outputs": [
        {
          "output_type": "error",
          "ename": "AttributeError",
          "evalue": "ignored",
          "traceback": [
            "\u001b[0;31m---------------------------------------------------------------------------\u001b[0m",
            "\u001b[0;31mAttributeError\u001b[0m                            Traceback (most recent call last)",
            "\u001b[0;32m<ipython-input-76-6617e8c220ba>\u001b[0m in \u001b[0;36m<module>\u001b[0;34m()\u001b[0m\n\u001b[0;32m----> 1\u001b[0;31m \u001b[0mprint\u001b[0m\u001b[0;34m(\u001b[0m\u001b[0mDense\u001b[0m\u001b[0;34m(\u001b[0m\u001b[0mConcatenate\u001b[0m\u001b[0;34m(\u001b[0m\u001b[0;34m[\u001b[0m\u001b[0ml1\u001b[0m\u001b[0;34m,\u001b[0m\u001b[0ml2\u001b[0m\u001b[0;34m]\u001b[0m\u001b[0;34m)\u001b[0m\u001b[0;34m)\u001b[0m\u001b[0;34m.\u001b[0m\u001b[0moutput_shape\u001b[0m\u001b[0;34m)\u001b[0m\u001b[0;34m\u001b[0m\u001b[0;34m\u001b[0m\u001b[0m\n\u001b[0m",
            "\u001b[0;32m/usr/local/lib/python3.6/dist-packages/keras/engine/base_layer.py\u001b[0m in \u001b[0;36moutput_shape\u001b[0;34m(self)\u001b[0m\n\u001b[1;32m    948\u001b[0m         \"\"\"\n\u001b[1;32m    949\u001b[0m         \u001b[0;32mif\u001b[0m \u001b[0;32mnot\u001b[0m \u001b[0mself\u001b[0m\u001b[0;34m.\u001b[0m\u001b[0m_inbound_nodes\u001b[0m\u001b[0;34m:\u001b[0m\u001b[0;34m\u001b[0m\u001b[0;34m\u001b[0m\u001b[0m\n\u001b[0;32m--> 950\u001b[0;31m             raise AttributeError('The layer has never been called '\n\u001b[0m\u001b[1;32m    951\u001b[0m                                  'and thus has no defined output shape.')\n\u001b[1;32m    952\u001b[0m         all_output_shapes = set(\n",
            "\u001b[0;31mAttributeError\u001b[0m: The layer has never been called and thus has no defined output shape."
          ]
        }
      ]
    },
    {
      "cell_type": "code",
      "metadata": {
        "id": "2LS9We9pe2QE",
        "colab_type": "code",
        "colab": {
          "base_uri": "https://localhost:8080/",
          "height": 33
        },
        "outputId": "8a42f982-b171-42e8-c52f-5d55ec2e07d9"
      },
      "source": [
        "#type(Concatenate([l1, l2]))\n",
        "type(keras.layers.Dense(Concatenate([l1, l2])))\n",
        "Model(keras.layers.Dense(Concatenate([l1, l2])))"
      ],
      "execution_count": 70,
      "outputs": [
        {
          "output_type": "execute_result",
          "data": {
            "text/plain": [
              "<keras.engine.training.Model at 0x7f5d9c105f98>"
            ]
          },
          "metadata": {
            "tags": []
          },
          "execution_count": 70
        }
      ]
    },
    {
      "cell_type": "code",
      "metadata": {
        "id": "i6MulplzRYp3",
        "colab_type": "code",
        "colab": {}
      },
      "source": [
        "from tensorflow.keras.optimizers import Adam \n",
        "\n",
        "model1.compile(optimizer=Adam(learning_rate=0.001),\n",
        "              loss = 'mean_squared_error',\n",
        "              metrics = ['acc'])"
      ],
      "execution_count": 5,
      "outputs": []
    },
    {
      "cell_type": "code",
      "metadata": {
        "id": "umI_rqVESlw_",
        "colab_type": "code",
        "colab": {
          "base_uri": "https://localhost:8080/",
          "height": 1000
        },
        "outputId": "a9c704a9-360f-4b82-8259-a83ffc4fcbd1"
      },
      "source": [
        "model1.fit(X_train, y_train, batch_size = 64, epochs= 50)"
      ],
      "execution_count": 6,
      "outputs": [
        {
          "output_type": "stream",
          "text": [
            "Epoch 1/50\n",
            "500/500 [==============================] - 19s 39ms/step - loss: 3.8867 - acc: 0.3560\n",
            "Epoch 2/50\n",
            "500/500 [==============================] - 6s 12ms/step - loss: 0.0350 - acc: 0.6040\n",
            "Epoch 3/50\n",
            "500/500 [==============================] - 6s 11ms/step - loss: 0.0336 - acc: 0.6040\n",
            "Epoch 4/50\n",
            "500/500 [==============================] - 6s 11ms/step - loss: 0.0334 - acc: 0.6040\n",
            "Epoch 5/50\n",
            "500/500 [==============================] - 6s 11ms/step - loss: 0.0329 - acc: 0.6000\n",
            "Epoch 6/50\n",
            "500/500 [==============================] - 6s 11ms/step - loss: 0.0318 - acc: 0.6080\n",
            "Epoch 7/50\n",
            "500/500 [==============================] - 6s 11ms/step - loss: 0.0313 - acc: 0.6020\n",
            "Epoch 8/50\n",
            "500/500 [==============================] - 6s 11ms/step - loss: 0.0305 - acc: 0.6120\n",
            "Epoch 9/50\n",
            "500/500 [==============================] - 5s 11ms/step - loss: 0.0298 - acc: 0.6120\n",
            "Epoch 10/50\n",
            "500/500 [==============================] - 5s 11ms/step - loss: 0.0299 - acc: 0.6260\n",
            "Epoch 11/50\n",
            "500/500 [==============================] - 5s 11ms/step - loss: 0.0291 - acc: 0.6380\n",
            "Epoch 12/50\n",
            "500/500 [==============================] - 5s 11ms/step - loss: 0.0280 - acc: 0.6240\n",
            "Epoch 13/50\n",
            "500/500 [==============================] - 5s 11ms/step - loss: 0.0275 - acc: 0.6340\n",
            "Epoch 14/50\n",
            "500/500 [==============================] - 5s 11ms/step - loss: 0.0269 - acc: 0.6360\n",
            "Epoch 15/50\n",
            "500/500 [==============================] - 5s 11ms/step - loss: 0.0266 - acc: 0.6420\n",
            "Epoch 16/50\n",
            "500/500 [==============================] - 6s 11ms/step - loss: 0.0263 - acc: 0.6340\n",
            "Epoch 17/50\n",
            "500/500 [==============================] - 6s 11ms/step - loss: 0.0255 - acc: 0.6620\n",
            "Epoch 18/50\n",
            "500/500 [==============================] - 6s 11ms/step - loss: 0.0245 - acc: 0.6420\n",
            "Epoch 19/50\n",
            "500/500 [==============================] - 6s 11ms/step - loss: 0.0235 - acc: 0.6440\n",
            "Epoch 20/50\n",
            "500/500 [==============================] - 6s 11ms/step - loss: 0.0231 - acc: 0.6360\n",
            "Epoch 21/50\n",
            "500/500 [==============================] - 6s 11ms/step - loss: 0.0224 - acc: 0.7000\n",
            "Epoch 22/50\n",
            "500/500 [==============================] - 6s 11ms/step - loss: 0.0219 - acc: 0.6780\n",
            "Epoch 23/50\n",
            "500/500 [==============================] - 6s 11ms/step - loss: 0.0213 - acc: 0.6820\n",
            "Epoch 24/50\n",
            "500/500 [==============================] - 6s 11ms/step - loss: 0.0210 - acc: 0.6820\n",
            "Epoch 25/50\n",
            "500/500 [==============================] - 6s 11ms/step - loss: 0.0205 - acc: 0.7280\n",
            "Epoch 26/50\n",
            "500/500 [==============================] - 6s 11ms/step - loss: 0.0203 - acc: 0.7080\n",
            "Epoch 27/50\n",
            "500/500 [==============================] - 6s 11ms/step - loss: 0.0198 - acc: 0.7300\n",
            "Epoch 28/50\n",
            "500/500 [==============================] - 6s 11ms/step - loss: 0.0195 - acc: 0.7240\n",
            "Epoch 29/50\n",
            "500/500 [==============================] - 6s 11ms/step - loss: 0.0190 - acc: 0.7360\n",
            "Epoch 30/50\n",
            "500/500 [==============================] - 6s 11ms/step - loss: 0.0187 - acc: 0.7800\n",
            "Epoch 31/50\n",
            "500/500 [==============================] - 6s 11ms/step - loss: 0.0184 - acc: 0.7340\n",
            "Epoch 32/50\n",
            "500/500 [==============================] - 6s 11ms/step - loss: 0.0182 - acc: 0.7600\n",
            "Epoch 33/50\n",
            "500/500 [==============================] - 6s 11ms/step - loss: 0.0179 - acc: 0.7660\n",
            "Epoch 34/50\n",
            "500/500 [==============================] - 6s 11ms/step - loss: 0.0178 - acc: 0.7960\n",
            "Epoch 35/50\n",
            "500/500 [==============================] - 6s 11ms/step - loss: 0.0177 - acc: 0.7840\n",
            "Epoch 36/50\n",
            "500/500 [==============================] - 6s 11ms/step - loss: 0.0175 - acc: 0.8020\n",
            "Epoch 37/50\n",
            "500/500 [==============================] - 6s 11ms/step - loss: 0.0174 - acc: 0.8060\n",
            "Epoch 38/50\n",
            "500/500 [==============================] - 6s 11ms/step - loss: 0.0174 - acc: 0.8060\n",
            "Epoch 39/50\n",
            "500/500 [==============================] - 6s 11ms/step - loss: 0.0173 - acc: 0.7920\n",
            "Epoch 40/50\n",
            "500/500 [==============================] - 6s 11ms/step - loss: 0.0171 - acc: 0.7980\n",
            "Epoch 41/50\n",
            "500/500 [==============================] - 6s 11ms/step - loss: 0.0170 - acc: 0.8160\n",
            "Epoch 42/50\n",
            "500/500 [==============================] - 6s 11ms/step - loss: 0.0169 - acc: 0.8060\n",
            "Epoch 43/50\n",
            "500/500 [==============================] - 6s 11ms/step - loss: 0.0168 - acc: 0.8120\n",
            "Epoch 44/50\n",
            "500/500 [==============================] - 6s 11ms/step - loss: 0.0167 - acc: 0.8500\n",
            "Epoch 45/50\n",
            "500/500 [==============================] - 6s 11ms/step - loss: 0.0166 - acc: 0.8300\n",
            "Epoch 46/50\n",
            "500/500 [==============================] - 6s 11ms/step - loss: 0.0162 - acc: 0.8200\n",
            "Epoch 47/50\n",
            "500/500 [==============================] - 6s 11ms/step - loss: 0.0160 - acc: 0.8280\n",
            "Epoch 48/50\n",
            "500/500 [==============================] - 6s 11ms/step - loss: 0.0158 - acc: 0.7960\n",
            "Epoch 49/50\n",
            "500/500 [==============================] - 6s 11ms/step - loss: 0.0157 - acc: 0.8180\n",
            "Epoch 50/50\n",
            "500/500 [==============================] - 6s 11ms/step - loss: 0.0157 - acc: 0.8000\n"
          ],
          "name": "stdout"
        },
        {
          "output_type": "execute_result",
          "data": {
            "text/plain": [
              "<keras.callbacks.callbacks.History at 0x7f3d00324a20>"
            ]
          },
          "metadata": {
            "tags": []
          },
          "execution_count": 6
        }
      ]
    },
    {
      "cell_type": "code",
      "metadata": {
        "id": "-lzGPyzd08n3",
        "colab_type": "code",
        "colab": {
          "base_uri": "https://localhost:8080/",
          "height": 142
        },
        "outputId": "58ae313f-f9eb-40f4-daca-003faed96be9"
      },
      "source": [
        "model2.summary()\n",
        "m8 = keras.models.Sequential([keras.layers.Dense(12,activation='relu',input_shape=(5,5)),Concatenate([keras.layers.Dense(12,activation='relu')),keras.layers.Dense(12,activation='relu'))])"
      ],
      "execution_count": 17,
      "outputs": [
        {
          "output_type": "error",
          "ename": "SyntaxError",
          "evalue": "ignored",
          "traceback": [
            "\u001b[0;36m  File \u001b[0;32m\"<ipython-input-17-2bd9c6b04409>\"\u001b[0;36m, line \u001b[0;32m2\u001b[0m\n\u001b[0;31m    m8 = keras.models.Sequential([keras.layers.Dense(12,activation='relu',input_shape=(5,5)),Concatenate([keras.layers.Dense(12,activation='relu')),keras.layers.Dense(12,activation='relu'))])\u001b[0m\n\u001b[0m                                                                                                                                                  ^\u001b[0m\n\u001b[0;31mSyntaxError\u001b[0m\u001b[0;31m:\u001b[0m invalid syntax\n"
          ]
        }
      ]
    },
    {
      "cell_type": "code",
      "metadata": {
        "id": "K76RRsN37d4s",
        "colab_type": "code",
        "colab": {
          "base_uri": "https://localhost:8080/",
          "height": 131
        },
        "outputId": "49444564-4510-4c4c-e486-7ad63a7b5b20"
      },
      "source": [
        "model1.predict(x_test)"
      ],
      "execution_count": 11,
      "outputs": [
        {
          "output_type": "execute_result",
          "data": {
            "text/plain": [
              "array([[0., 0., 0., ..., 0., 0., 0.],\n",
              "       [0., 0., 0., ..., 0., 0., 0.],\n",
              "       [0., 0., 0., ..., 0., 0., 0.],\n",
              "       ...,\n",
              "       [0., 0., 0., ..., 0., 0., 0.],\n",
              "       [0., 0., 0., ..., 0., 0., 0.],\n",
              "       [0., 0., 0., ..., 0., 0., 0.]], dtype=float32)"
            ]
          },
          "metadata": {
            "tags": []
          },
          "execution_count": 11
        }
      ]
    },
    {
      "cell_type": "code",
      "metadata": {
        "id": "hIbcEVgP9x-Z",
        "colab_type": "code",
        "colab": {}
      },
      "source": [
        "from keras.callbacks import ModelCheckpoint\n",
        "checkpointer = ModelCheckpoint(filepath='content/weights.hdf5', verbose=1, save_best_only=True)\n",
        "\n",
        "from keras.models import load_model\n",
        "model = load_model('content/weights.hdf5')\n",
        "\n",
        "predictions = model.predict_generator(TestBatchGenerator(fetcher),\n",
        "                       val_samples = len(fetcher.test_images_paths),\n",
        "                        max_q_size = 32,)\n",
        "\n"
      ],
      "execution_count": null,
      "outputs": []
    },
    {
      "cell_type": "code",
      "metadata": {
        "id": "i9qeAfM2A6Pr",
        "colab_type": "code",
        "colab": {
          "base_uri": "https://localhost:8080/",
          "height": 50
        },
        "outputId": "7c604351-c52e-4721-97a5-8ec986ec2b92"
      },
      "source": [
        "\n",
        "#loss, accuracy, f1_score, precision, recall = \n",
        "model1.evaluate(x = x_test,y=y_test, batch_size=10)"
      ],
      "execution_count": 7,
      "outputs": [
        {
          "output_type": "stream",
          "text": [
            "100/100 [==============================] - 1s 11ms/step\n"
          ],
          "name": "stdout"
        },
        {
          "output_type": "execute_result",
          "data": {
            "text/plain": [
              "[0.030751432105898858, 0.5799999833106995]"
            ]
          },
          "metadata": {
            "tags": []
          },
          "execution_count": 7
        }
      ]
    },
    {
      "cell_type": "code",
      "metadata": {
        "id": "9ap2kueiUt90",
        "colab_type": "code",
        "colab": {}
      },
      "source": [
        "def ConvBlock(layers, model, filters):\n",
        "    \"\"\"\n",
        "    Create a layered Conv/Pooling block\n",
        "    \"\"\"\n",
        "    for i in range(layers): \n",
        "        model.add(ZeroPadding2D((1,1)))  # zero padding of size 1\n",
        "        model.add(Convolution2D(filters, 3, 3, activation='relu'))  # 3x3 filter size \n",
        "    model.add(MaxPooling2D((2,2), strides=(2,2)))\n",
        "\n",
        "def FCBlock(model):\n",
        "    \"\"\"\n",
        "    Fully connected block with ReLU and dropout\n",
        "    \"\"\"\n",
        "    model.add(Dense(4096, activation='relu'))\n",
        "    model.add(Dropout(0.5))\n",
        "    \n",
        "def VGG_16():\n",
        "    \"\"\"\n",
        "    Implement VGG16 architecture\n",
        "    \"\"\"\n",
        "    model = Sequential()\n",
        "    model.add(Lambda(lambda x : x, input_shape=(3,106,106)))\n",
        "    \n",
        "    ConvBlock(2, model, 64)\n",
        "    ConvBlock(2, model, 128)\n",
        "    ConvBlock(3, model, 256)\n",
        "    ConvBlock(3, model, 512)\n",
        "    ConvBlock(3, model, 512)\n",
        "\n",
        "    model.add(Flatten())\n",
        "    FCBlock(model)\n",
        "    FCBlock(model)\n",
        "    \n",
        "    model.add(Dense(37, activation = 'sigmoid'))\n",
        "    return model\n",
        "\n",
        "# Compile \n",
        "optimizer = RMSprop(lr=1e-6)\n",
        "model = VGG_16()\n",
        "model.compile(loss='mean_squared_error', optimizer=optimizer)"
      ],
      "execution_count": null,
      "outputs": []
    },
    {
      "cell_type": "code",
      "metadata": {
        "id": "hs0LExp39v5J",
        "colab_type": "code",
        "colab": {}
      },
      "source": [
        ""
      ],
      "execution_count": null,
      "outputs": []
    }
  ]
}